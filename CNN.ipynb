{
  "nbformat": 4,
  "nbformat_minor": 0,
  "metadata": {
    "colab": {
      "name": "CNN",
      "provenance": [],
      "include_colab_link": true
    },
    "kernelspec": {
      "name": "python3",
      "display_name": "Python 3"
    },
    "accelerator": "GPU"
  },
  "cells": [
    {
      "cell_type": "markdown",
      "metadata": {
        "id": "view-in-github",
        "colab_type": "text"
      },
      "source": [
        "<a href=\"https://colab.research.google.com/github/viktor1181/CNN/blob/main/CNN.ipynb\" target=\"_parent\"><img src=\"https://colab.research.google.com/assets/colab-badge.svg\" alt=\"Open In Colab\"/></a>"
      ]
    },
    {
      "cell_type": "code",
      "metadata": {
        "id": "T6hmBuIyjRUu"
      },
      "source": [
        "import numpy as np\n",
        "from keras.datasets import cifar10\n",
        "from keras.models import Sequential\n",
        "from keras.layers import Dense, Flatten\n",
        "from keras.layers import Dropout\n",
        "from keras.layers.convolutional import Conv2D, MaxPooling2D\n",
        "from keras.utils import np_utils\n",
        "from keras.preprocessing import image\n",
        "import matplotlib.pyplot as plt\n",
        "%matplotlib inline "
      ],
      "execution_count": 1,
      "outputs": []
    },
    {
      "cell_type": "code",
      "metadata": {
        "id": "PfEKaHglj2VL"
      },
      "source": [
        "# Размер мини-выборки\n",
        "batch_size = 128\n",
        "# Количество классов изображений\n",
        "nb_classes = 10\n",
        "# Количество эпох для обучения\n",
        "nb_epoch = 25\n",
        "# Размер изображений\n",
        "img_rows, img_cols = 32, 32\n",
        "# Количество каналов в изображении: RGB\n",
        "img_channels = 3\n",
        "# Названия классов из набора данных CIFAR-10\n",
        "classes=['самолет', 'автомобиль', 'птица', 'кот', 'олень', 'собака', 'лягушка', 'лошадь', 'корабль', 'грузовик']"
      ],
      "execution_count": 2,
      "outputs": []
    },
    {
      "cell_type": "code",
      "metadata": {
        "id": "ARLcknFUj4Oc",
        "colab": {
          "base_uri": "https://localhost:8080/"
        },
        "outputId": "a0e73c0b-22be-4aca-e11c-e8f7d67df35f"
      },
      "source": [
        "(X_train, y_train), (X_test, y_test) = cifar10.load_data()"
      ],
      "execution_count": 3,
      "outputs": [
        {
          "output_type": "stream",
          "text": [
            "Downloading data from https://www.cs.toronto.edu/~kriz/cifar-10-python.tar.gz\n",
            "170500096/170498071 [==============================] - 2s 0us/step\n"
          ],
          "name": "stdout"
        }
      ]
    },
    {
      "cell_type": "code",
      "metadata": {
        "id": "KCXgj92ckE-J",
        "colab": {
          "base_uri": "https://localhost:8080/",
          "height": 300
        },
        "outputId": "f9129688-95b5-43f5-ee88-855ee9547b01"
      },
      "source": [
        "n = 1\n",
        "plt.imshow(X_train[n])\n",
        "plt.show()\n",
        "print(\"Номер класса:\", y_train[n])\n",
        "print(\"Тип объекта:\", classes[y_train[n][0]])"
      ],
      "execution_count": 4,
      "outputs": [
        {
          "output_type": "display_data",
          "data": {
            "image/png": "[encoded data removed]",
            "text/plain": [
              "<Figure size 432x288 with 1 Axes>"
            ]
          },
          "metadata": {
            "tags": [],
            "needs_background": "light"
          }
        },
        {
          "output_type": "stream",
          "text": [
            "Номер класса: [9]\n",
            "Тип объекта: грузовик\n"
          ],
          "name": "stdout"
        }
      ]
    },
    {
      "cell_type": "code",
      "metadata": {
        "id": "5d1X8Zzlg3aw"
      },
      "source": [
        "X_train"
      ],
      "execution_count": null,
      "outputs": []
    },
    {
      "cell_type": "code",
      "metadata": {
        "id": "C33r-0yNkJUA"
      },
      "source": [
        "X_train = X_train.astype('float32')\n",
        "X_test = X_test.astype('float32')\n",
        "X_train /= 255\n",
        "X_test /= 255"
      ],
      "execution_count": 5,
      "outputs": []
    },
    {
      "cell_type": "code",
      "metadata": {
        "colab": {
          "base_uri": "https://localhost:8080/"
        },
        "id": "jR283dOqhqJf",
        "outputId": "5ad94214-229f-48ae-c24e-63ef6d7eb332"
      },
      "source": [
        "y_train"
      ],
      "execution_count": null,
      "outputs": [
        {
          "output_type": "execute_result",
          "data": {
            "text/plain": [
              "array([[6],\n",
              "       [9],\n",
              "       [9],\n",
              "       ...,\n",
              "       [9],\n",
              "       [1],\n",
              "       [1]], dtype=uint8)"
            ]
          },
          "metadata": {
            "tags": []
          },
          "execution_count": 33
        }
      ]
    },
    {
      "cell_type": "code",
      "metadata": {
        "id": "VHzeTThQFEs1"
      },
      "source": [
        "Y_train = np_utils.to_categorical(y_train, nb_classes)\n",
        "Y_test = np_utils.to_categorical(y_test, nb_classes)"
      ],
      "execution_count": 6,
      "outputs": []
    },
    {
      "cell_type": "code",
      "metadata": {
        "id": "U0MLXRCqkPGC",
        "colab": {
          "base_uri": "https://localhost:8080/"
        },
        "outputId": "024bc9fd-a15b-4c19-a042-4366c6b7c00d"
      },
      "source": [
        "# Создаем последовательную модель\n",
        "model = Sequential()\n",
        "# Первый сверточный слой\n",
        "model.add(Conv2D(32, (3, 3), padding='same',\n",
        "                        input_shape=(32, 32, 3), activation='relu'))\n",
        "# Второй сверточный слой\n",
        "model.add(Conv2D(32, (3, 3), activation='relu', padding='same'))\n",
        "# Первый слой подвыборки\n",
        "model.add(MaxPooling2D(pool_size=(2, 2)))\n",
        "# Слой регуляризации Dropout\n",
        "model.add(Dropout(0.25))\n",
        "\n",
        "# Третий сверточный слой\n",
        "model.add(Conv2D(64, (3, 3), padding='same', activation='relu'))\n",
        "# Второй слой подвыборки\n",
        "model.add(MaxPooling2D(pool_size=(2, 2)))\n",
        "# Слой регуляризации Dropout\n",
        "model.add(Dropout(0.25))\n",
        "# Слой преобразования данных из 2D представления в плоское\n",
        "model.add(Flatten())\n",
        "# Полносвязный слой для классификации\n",
        "model.add(Dense(512, activation='relu'))\n",
        "# Слой регуляризации Dropout\n",
        "model.add(Dropout(0.5))\n",
        "# Выходной полносвязный слой\n",
        "model.add(Dense(nb_classes, activation='softmax'))\n",
        "model.summary()"
      ],
      "execution_count": 7,
      "outputs": [
        {
          "output_type": "stream",
          "text": [
            "Model: \"sequential\"\n",
            "_________________________________________________________________\n",
            "Layer (type)                 Output Shape              Param #   \n",
            "=================================================================\n",
            "conv2d (Conv2D)              (None, 32, 32, 32)        896       \n",
            "_________________________________________________________________\n",
            "conv2d_1 (Conv2D)            (None, 32, 32, 32)        9248      \n",
            "_________________________________________________________________\n",
            "max_pooling2d (MaxPooling2D) (None, 16, 16, 32)        0         \n",
            "_________________________________________________________________\n",
            "dropout (Dropout)            (None, 16, 16, 32)        0         \n",
            "_________________________________________________________________\n",
            "conv2d_2 (Conv2D)            (None, 16, 16, 64)        18496     \n",
            "_________________________________________________________________\n",
            "max_pooling2d_1 (MaxPooling2 (None, 8, 8, 64)          0         \n",
            "_________________________________________________________________\n",
            "dropout_1 (Dropout)          (None, 8, 8, 64)          0         \n",
            "_________________________________________________________________\n",
            "flatten (Flatten)            (None, 4096)              0         \n",
            "_________________________________________________________________\n",
            "dense (Dense)                (None, 512)               2097664   \n",
            "_________________________________________________________________\n",
            "dropout_2 (Dropout)          (None, 512)               0         \n",
            "_________________________________________________________________\n",
            "dense_1 (Dense)              (None, 10)                5130      \n",
            "=================================================================\n",
            "Total params: 2,131,434\n",
            "Trainable params: 2,131,434\n",
            "Non-trainable params: 0\n",
            "_________________________________________________________________\n"
          ],
          "name": "stdout"
        }
      ]
    },
    {
      "cell_type": "code",
      "metadata": {
        "id": "VyVlJMdGkrv-"
      },
      "source": [
        "model.compile(loss='categorical_crossentropy',\n",
        "              optimizer='adam',\n",
        "              metrics=['accuracy'])"
      ],
      "execution_count": 8,
      "outputs": []
    },
    {
      "cell_type": "code",
      "metadata": {
        "id": "kyH5Ec9RkznF",
        "outputId": "f58adeaf-693b-4ce0-b43c-c26b08a709d3",
        "colab": {
          "base_uri": "https://localhost:8080/"
        }
      },
      "source": [
        "history = model.fit(X_train, Y_train,\n",
        "              batch_size=batch_size,\n",
        "              epochs=epochs,\n",
        "              validation_split=0.1,\n",
        "              shuffle=True,\n",
        "              verbose=2)"
      ],
      "execution_count": 9,
      "outputs": [
        {
          "output_type": "stream",
          "text": [
            "Epoch 1/35\n",
            "352/352 - 36s - loss: 1.6271 - accuracy: 0.4062 - val_loss: 1.2512 - val_accuracy: 0.5602\n",
            "Epoch 2/35\n",
            "352/352 - 3s - loss: 1.2194 - accuracy: 0.5633 - val_loss: 1.0532 - val_accuracy: 0.6286\n",
            "Epoch 3/35\n",
            "352/352 - 3s - loss: 1.0378 - accuracy: 0.6336 - val_loss: 0.9007 - val_accuracy: 0.6938\n",
            "Epoch 4/35\n",
            "352/352 - 3s - loss: 0.9276 - accuracy: 0.6733 - val_loss: 0.8222 - val_accuracy: 0.7150\n",
            "Epoch 5/35\n",
            "352/352 - 3s - loss: 0.8625 - accuracy: 0.6952 - val_loss: 0.7690 - val_accuracy: 0.7346\n",
            "Epoch 6/35\n",
            "352/352 - 3s - loss: 0.7930 - accuracy: 0.7204 - val_loss: 0.7371 - val_accuracy: 0.7444\n",
            "Epoch 7/35\n",
            "352/352 - 3s - loss: 0.7543 - accuracy: 0.7333 - val_loss: 0.7332 - val_accuracy: 0.7498\n",
            "Epoch 8/35\n",
            "352/352 - 3s - loss: 0.7169 - accuracy: 0.7459 - val_loss: 0.7158 - val_accuracy: 0.7524\n",
            "Epoch 9/35\n",
            "352/352 - 3s - loss: 0.6709 - accuracy: 0.7630 - val_loss: 0.6884 - val_accuracy: 0.7658\n",
            "Epoch 10/35\n",
            "352/352 - 3s - loss: 0.6379 - accuracy: 0.7757 - val_loss: 0.6862 - val_accuracy: 0.7710\n",
            "Epoch 11/35\n",
            "352/352 - 3s - loss: 0.6110 - accuracy: 0.7813 - val_loss: 0.6741 - val_accuracy: 0.7666\n",
            "Epoch 12/35\n",
            "352/352 - 3s - loss: 0.5856 - accuracy: 0.7916 - val_loss: 0.6484 - val_accuracy: 0.7852\n",
            "Epoch 13/35\n",
            "352/352 - 3s - loss: 0.5595 - accuracy: 0.8020 - val_loss: 0.6342 - val_accuracy: 0.7862\n",
            "Epoch 14/35\n",
            "352/352 - 3s - loss: 0.5347 - accuracy: 0.8081 - val_loss: 0.6478 - val_accuracy: 0.7826\n",
            "Epoch 15/35\n",
            "352/352 - 3s - loss: 0.5185 - accuracy: 0.8131 - val_loss: 0.6513 - val_accuracy: 0.7794\n",
            "Epoch 16/35\n",
            "352/352 - 3s - loss: 0.4963 - accuracy: 0.8222 - val_loss: 0.6398 - val_accuracy: 0.7864\n",
            "Epoch 17/35\n",
            "352/352 - 3s - loss: 0.4794 - accuracy: 0.8297 - val_loss: 0.6489 - val_accuracy: 0.7916\n",
            "Epoch 18/35\n",
            "352/352 - 3s - loss: 0.4591 - accuracy: 0.8353 - val_loss: 0.6459 - val_accuracy: 0.7898\n",
            "Epoch 19/35\n",
            "352/352 - 3s - loss: 0.4500 - accuracy: 0.8391 - val_loss: 0.6493 - val_accuracy: 0.7902\n",
            "Epoch 20/35\n",
            "352/352 - 3s - loss: 0.4320 - accuracy: 0.8447 - val_loss: 0.6636 - val_accuracy: 0.7848\n",
            "Epoch 21/35\n",
            "352/352 - 3s - loss: 0.4147 - accuracy: 0.8508 - val_loss: 0.6701 - val_accuracy: 0.7840\n",
            "Epoch 22/35\n",
            "352/352 - 3s - loss: 0.4039 - accuracy: 0.8533 - val_loss: 0.6690 - val_accuracy: 0.7902\n",
            "Epoch 23/35\n",
            "352/352 - 3s - loss: 0.3906 - accuracy: 0.8587 - val_loss: 0.6628 - val_accuracy: 0.7946\n",
            "Epoch 24/35\n",
            "352/352 - 3s - loss: 0.3836 - accuracy: 0.8624 - val_loss: 0.6616 - val_accuracy: 0.7910\n",
            "Epoch 25/35\n",
            "352/352 - 3s - loss: 0.3780 - accuracy: 0.8636 - val_loss: 0.6744 - val_accuracy: 0.7876\n",
            "Epoch 26/35\n",
            "352/352 - 3s - loss: 0.3630 - accuracy: 0.8719 - val_loss: 0.6921 - val_accuracy: 0.7904\n",
            "Epoch 27/35\n",
            "352/352 - 3s - loss: 0.3569 - accuracy: 0.8707 - val_loss: 0.6841 - val_accuracy: 0.7922\n",
            "Epoch 28/35\n",
            "352/352 - 3s - loss: 0.3485 - accuracy: 0.8750 - val_loss: 0.6793 - val_accuracy: 0.7926\n",
            "Epoch 29/35\n",
            "352/352 - 3s - loss: 0.3382 - accuracy: 0.8786 - val_loss: 0.6856 - val_accuracy: 0.7950\n",
            "Epoch 30/35\n",
            "352/352 - 3s - loss: 0.3329 - accuracy: 0.8812 - val_loss: 0.6860 - val_accuracy: 0.7912\n",
            "Epoch 31/35\n",
            "352/352 - 3s - loss: 0.3259 - accuracy: 0.8827 - val_loss: 0.6900 - val_accuracy: 0.7932\n",
            "Epoch 32/35\n",
            "352/352 - 3s - loss: 0.3205 - accuracy: 0.8855 - val_loss: 0.6836 - val_accuracy: 0.7938\n",
            "Epoch 33/35\n",
            "352/352 - 3s - loss: 0.3133 - accuracy: 0.8884 - val_loss: 0.6864 - val_accuracy: 0.8018\n",
            "Epoch 34/35\n",
            "352/352 - 3s - loss: 0.3075 - accuracy: 0.8905 - val_loss: 0.6996 - val_accuracy: 0.8024\n",
            "Epoch 35/35\n",
            "352/352 - 3s - loss: 0.3043 - accuracy: 0.8914 - val_loss: 0.6966 - val_accuracy: 0.7934\n"
          ],
          "name": "stdout"
        }
      ]
    },
    {
      "cell_type": "code",
      "metadata": {
        "id": "5y4AHwlNou5y",
        "outputId": "1193ad05-2290-4dd0-cf14-665efeda5796",
        "colab": {
          "base_uri": "https://localhost:8080/"
        }
      },
      "source": [
        "# Оцениваем качество обучения модели на тестовых данных\n",
        "scores = model.evaluate(X_test, Y_test, verbose=0)\n",
        "print(\"Точность работы на тестовых данных: %.2f%%\" % (scores[1]*100))"
      ],
      "execution_count": 10,
      "outputs": [
        {
          "output_type": "stream",
          "text": [
            "Точность работы на тестовых данных: 77.74%\n"
          ],
          "name": "stdout"
        }
      ]
    },
    {
      "cell_type": "code",
      "metadata": {
        "id": "Z_xxp2UrNJvz",
        "outputId": "bfe76e34-1b81-41c8-98b8-7502c2d8f290",
        "colab": {
          "base_uri": "https://localhost:8080/",
          "height": 279
        }
      },
      "source": [
        "history_dict = history.history\n",
        "acc_values = history_dict['accuracy']\n",
        "val_acc_values = history_dict['val_accuracy']\n",
        "epochs = range(1, len(acc_values) + 1)\n",
        "plt.plot(epochs, acc_values, 'bo', label='Training acc')\n",
        "plt.plot(epochs, val_acc_values, 'b', label='Validation acc')\n",
        "plt.xlabel('Epochs')\n",
        "plt.ylabel('Accuracy')\n",
        "plt.legend()\n",
        "plt.grid()\n",
        "plt.show()"
      ],
      "execution_count": 11,
      "outputs": [
        {
          "output_type": "display_data",
          "data": {
            "image/png": "[encoded data removed]",
            "text/plain": [
              "<Figure size 432x288 with 1 Axes>"
            ]
          },
          "metadata": {
            "tags": [],
            "needs_background": "light"
          }
        }
      ]
    },
    {
      "cell_type": "code",
      "metadata": {
        "id": "Hig0d3VOBplC",
        "outputId": "5e335bcf-2957-416e-f5b5-c30b89b647f7",
        "colab": {
          "base_uri": "https://localhost:8080/",
          "height": 266
        }
      },
      "source": [
        "index=11\n",
        "plt.imshow(X_test[index])\n",
        "plt.show()"
      ],
      "execution_count": 15,
      "outputs": [
        {
          "output_type": "display_data",
          "data": {
            "image/png": "[encoded data removed]",
            "text/plain": [
              "<Figure size 432x288 with 1 Axes>"
            ]
          },
          "metadata": {
            "tags": [],
            "needs_background": "light"
          }
        }
      ]
    },
    {
      "cell_type": "code",
      "metadata": {
        "id": "3esNvLN3YmwM"
      },
      "source": [
        "x = X_test[index]\n",
        "x = np.expand_dims(x, axis=0)"
      ],
      "execution_count": 16,
      "outputs": []
    },
    {
      "cell_type": "code",
      "metadata": {
        "id": "QTdXEhQ3X13R"
      },
      "source": [
        "prediction = model.predict(x)"
      ],
      "execution_count": 17,
      "outputs": []
    },
    {
      "cell_type": "code",
      "metadata": {
        "id": "ynzKYg0aS-3M",
        "outputId": "5ea4b412-5581-4fbd-c15d-f3936ed83922",
        "colab": {
          "base_uri": "https://localhost:8080/"
        }
      },
      "source": [
        "print(prediction)"
      ],
      "execution_count": 18,
      "outputs": [
        {
          "output_type": "stream",
          "text": [
            "[[3.8763172e-14 3.8590747e-06 1.2386175e-17 1.9220353e-16 1.0450576e-21\n",
            "  1.5159593e-18 5.4648644e-19 1.2164764e-20 2.7904085e-11 9.9999619e-01]]\n"
          ],
          "name": "stdout"
        }
      ]
    },
    {
      "cell_type": "markdown",
      "metadata": {
        "id": "oeeqy0cjX7j6"
      },
      "source": [
        "**Запускаем распознавание**"
      ]
    },
    {
      "cell_type": "code",
      "metadata": {
        "id": "cVIxQljlX-LZ",
        "outputId": "a35b0487-75f6-42ff-89e6-91728cb12f59",
        "colab": {
          "base_uri": "https://localhost:8080/"
        }
      },
      "source": [
        "prediction = np.argmax(prediction)\n",
        "print(classes[prediction])"
      ],
      "execution_count": 19,
      "outputs": [
        {
          "output_type": "stream",
          "text": [
            "грузовик\n"
          ],
          "name": "stdout"
        }
      ]
    },
    {
      "cell_type": "code",
      "metadata": {
        "id": "krPNrEmsTEDw",
        "outputId": "984b78ee-1422-4409-bdea-2611569e7eaf",
        "colab": {
          "base_uri": "https://localhost:8080/"
        }
      },
      "source": [
        "print(classes[y_test[index][0]])"
      ],
      "execution_count": 20,
      "outputs": [
        {
          "output_type": "stream",
          "text": [
            "грузовик\n"
          ],
          "name": "stdout"
        }
      ]
    }
  ]
}