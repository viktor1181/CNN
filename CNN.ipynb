{
  "nbformat": 4,
  "nbformat_minor": 0,
  "metadata": {
    "colab": {
      "name": "CNN",
      "provenance": [],
      "include_colab_link": true
    },
    "kernelspec": {
      "name": "python3",
      "display_name": "Python 3"
    },
    "accelerator": "GPU"
  },
  "cells": [
    {
      "cell_type": "markdown",
      "metadata": {
        "id": "view-in-github",
        "colab_type": "text"
      },
      "source": [
        "<a href=\"https://colab.research.google.com/github/viktor1181/CNN/blob/main/CNN.ipynb\" target=\"_parent\"><img src=\"https://colab.research.google.com/assets/colab-badge.svg\" alt=\"Open In Colab\"/></a>"
      ]
    },
    {
      "cell_type": "code",
      "metadata": {
        "id": "T6hmBuIyjRUu"
      },
      "source": [
        "import numpy as np\n",
        "from keras.datasets import cifar10\n",
        "from keras.models import Sequential\n",
        "from keras.layers import Dense, Flatten\n",
        "from keras.layers import Dropout\n",
        "from keras.layers.convolutional import Conv2D, MaxPooling2D\n",
        "from keras.utils import np_utils\n",
        "from keras.preprocessing import image\n",
        "import matplotlib.pyplot as plt\n",
        "from keras.layers.normalization import BatchNormalization\n",
        "%matplotlib inline "
      ],
      "execution_count": 1,
      "outputs": []
    },
    {
      "cell_type": "code",
      "metadata": {
        "id": "PfEKaHglj2VL"
      },
      "source": [
        "# Размер мини-выборки\n",
        "batch_size = 128\n",
        "# Количество классов изображений\n",
        "nb_classes = 10\n",
        "# Количество эпох для обучения\n",
        "nb_epoch = 25\n",
        "# Размер изображений\n",
        "img_rows, img_cols = 32, 32\n",
        "# Количество каналов в изображении: RGB\n",
        "img_channels = 3\n",
        "# Названия классов из набора данных CIFAR-10\n",
        "classes=['самолет', 'автомобиль', 'птица', 'кот', 'олень', 'собака', 'лягушка', 'лошадь', 'корабль', 'грузовик']"
      ],
      "execution_count": 2,
      "outputs": []
    },
    {
      "cell_type": "code",
      "metadata": {
        "id": "ARLcknFUj4Oc",
        "outputId": "e06dda70-c453-4b72-e0fc-a7e2dc710396",
        "colab": {
          "base_uri": "https://localhost:8080/"
        }
      },
      "source": [
        "(X_train, y_train), (X_test, y_test) = cifar10.load_data()"
      ],
      "execution_count": 3,
      "outputs": [
        {
          "output_type": "stream",
          "text": [
            "Downloading data from https://www.cs.toronto.edu/~kriz/cifar-10-python.tar.gz\n",
            "170500096/170498071 [==============================] - 4s 0us/step\n"
          ],
          "name": "stdout"
        }
      ]
    },
    {
      "cell_type": "code",
      "metadata": {
        "id": "KCXgj92ckE-J",
        "colab": {
          "base_uri": "https://localhost:8080/",
          "height": 300
        },
        "outputId": "3d44b5fe-d5d1-4c2b-e74f-cfac823d068c"
      },
      "source": [
        "n = 1\n",
        "plt.imshow(X_train[n])\n",
        "plt.show()\n",
        "print(\"Номер класса:\", y_train[n])\n",
        "print(\"Тип объекта:\", classes[y_train[n][0]])"
      ],
      "execution_count": 4,
      "outputs": [
        {
          "output_type": "display_data",
          "data": {
            "image/png": "[encoded data removed]",
            "text/plain": [
              "<Figure size 432x288 with 1 Axes>"
            ]
          },
          "metadata": {
            "tags": [],
            "needs_background": "light"
          }
        },
        {
          "output_type": "stream",
          "text": [
            "Номер класса: [9]\n",
            "Тип объекта: грузовик\n"
          ],
          "name": "stdout"
        }
      ]
    },
    {
      "cell_type": "code",
      "metadata": {
        "id": "5d1X8Zzlg3aw",
        "colab": {
          "base_uri": "https://localhost:8080/"
        },
        "outputId": "fadb3278-38d8-4b9b-938a-c084b6b87225"
      },
      "source": [
        "X_train"
      ],
      "execution_count": 5,
      "outputs": [
        {
          "output_type": "execute_result",
          "data": {
            "text/plain": [
              "array([[[[ 59,  62,  63],\n",
              "         [ 43,  46,  45],\n",
              "         [ 50,  48,  43],\n",
              "         ...,\n",
              "         [158, 132, 108],\n",
              "         [152, 125, 102],\n",
              "         [148, 124, 103]],\n",
              "\n",
              "        [[ 16,  20,  20],\n",
              "         [  0,   0,   0],\n",
              "         [ 18,   8,   0],\n",
              "         ...,\n",
              "         [123,  88,  55],\n",
              "         [119,  83,  50],\n",
              "         [122,  87,  57]],\n",
              "\n",
              "        [[ 25,  24,  21],\n",
              "         [ 16,   7,   0],\n",
              "         [ 49,  27,   8],\n",
              "         ...,\n",
              "         [118,  84,  50],\n",
              "         [120,  84,  50],\n",
              "         [109,  73,  42]],\n",
              "\n",
              "        ...,\n",
              "\n",
              "        [[208, 170,  96],\n",
              "         [201, 153,  34],\n",
              "         [198, 161,  26],\n",
              "         ...,\n",
              "         [160, 133,  70],\n",
              "         [ 56,  31,   7],\n",
              "         [ 53,  34,  20]],\n",
              "\n",
              "        [[180, 139,  96],\n",
              "         [173, 123,  42],\n",
              "         [186, 144,  30],\n",
              "         ...,\n",
              "         [184, 148,  94],\n",
              "         [ 97,  62,  34],\n",
              "         [ 83,  53,  34]],\n",
              "\n",
              "        [[177, 144, 116],\n",
              "         [168, 129,  94],\n",
              "         [179, 142,  87],\n",
              "         ...,\n",
              "         [216, 184, 140],\n",
              "         [151, 118,  84],\n",
              "         [123,  92,  72]]],\n",
              "\n",
              "\n",
              "       [[[154, 177, 187],\n",
              "         [126, 137, 136],\n",
              "         [105, 104,  95],\n",
              "         ...,\n",
              "         [ 91,  95,  71],\n",
              "         [ 87,  90,  71],\n",
              "         [ 79,  81,  70]],\n",
              "\n",
              "        [[140, 160, 169],\n",
              "         [145, 153, 154],\n",
              "         [125, 125, 118],\n",
              "         ...,\n",
              "         [ 96,  99,  78],\n",
              "         [ 77,  80,  62],\n",
              "         [ 71,  73,  61]],\n",
              "\n",
              "        [[140, 155, 164],\n",
              "         [139, 146, 149],\n",
              "         [115, 115, 112],\n",
              "         ...,\n",
              "         [ 79,  82,  64],\n",
              "         [ 68,  70,  55],\n",
              "         [ 67,  69,  55]],\n",
              "\n",
              "        ...,\n",
              "\n",
              "        [[175, 167, 166],\n",
              "         [156, 154, 160],\n",
              "         [154, 160, 170],\n",
              "         ...,\n",
              "         [ 42,  34,  36],\n",
              "         [ 61,  53,  57],\n",
              "         [ 93,  83,  91]],\n",
              "\n",
              "        [[165, 154, 128],\n",
              "         [156, 152, 130],\n",
              "         [159, 161, 142],\n",
              "         ...,\n",
              "         [103,  93,  96],\n",
              "         [123, 114, 120],\n",
              "         [131, 121, 131]],\n",
              "\n",
              "        [[163, 148, 120],\n",
              "         [158, 148, 122],\n",
              "         [163, 156, 133],\n",
              "         ...,\n",
              "         [143, 133, 139],\n",
              "         [143, 134, 142],\n",
              "         [143, 133, 144]]],\n",
              "\n",
              "\n",
              "       [[[255, 255, 255],\n",
              "         [253, 253, 253],\n",
              "         [253, 253, 253],\n",
              "         ...,\n",
              "         [253, 253, 253],\n",
              "         [253, 253, 253],\n",
              "         [253, 253, 253]],\n",
              "\n",
              "        [[255, 255, 255],\n",
              "         [255, 255, 255],\n",
              "         [255, 255, 255],\n",
              "         ...,\n",
              "         [255, 255, 255],\n",
              "         [255, 255, 255],\n",
              "         [255, 255, 255]],\n",
              "\n",
              "        [[255, 255, 255],\n",
              "         [254, 254, 254],\n",
              "         [254, 254, 254],\n",
              "         ...,\n",
              "         [254, 254, 254],\n",
              "         [254, 254, 254],\n",
              "         [254, 254, 254]],\n",
              "\n",
              "        ...,\n",
              "\n",
              "        [[113, 120, 112],\n",
              "         [111, 118, 111],\n",
              "         [105, 112, 106],\n",
              "         ...,\n",
              "         [ 72,  81,  80],\n",
              "         [ 72,  80,  79],\n",
              "         [ 72,  80,  79]],\n",
              "\n",
              "        [[111, 118, 110],\n",
              "         [104, 111, 104],\n",
              "         [ 99, 106,  98],\n",
              "         ...,\n",
              "         [ 68,  75,  73],\n",
              "         [ 70,  76,  75],\n",
              "         [ 78,  84,  82]],\n",
              "\n",
              "        [[106, 113, 105],\n",
              "         [ 99, 106,  98],\n",
              "         [ 95, 102,  94],\n",
              "         ...,\n",
              "         [ 78,  85,  83],\n",
              "         [ 79,  85,  83],\n",
              "         [ 80,  86,  84]]],\n",
              "\n",
              "\n",
              "       ...,\n",
              "\n",
              "\n",
              "       [[[ 35, 178, 235],\n",
              "         [ 40, 176, 239],\n",
              "         [ 42, 176, 241],\n",
              "         ...,\n",
              "         [ 99, 177, 219],\n",
              "         [ 79, 147, 197],\n",
              "         [ 89, 148, 189]],\n",
              "\n",
              "        [[ 57, 182, 234],\n",
              "         [ 44, 184, 250],\n",
              "         [ 50, 183, 240],\n",
              "         ...,\n",
              "         [156, 182, 200],\n",
              "         [141, 177, 206],\n",
              "         [116, 149, 175]],\n",
              "\n",
              "        [[ 98, 197, 237],\n",
              "         [ 64, 189, 252],\n",
              "         [ 69, 192, 245],\n",
              "         ...,\n",
              "         [188, 195, 206],\n",
              "         [119, 135, 147],\n",
              "         [ 61,  79,  90]],\n",
              "\n",
              "        ...,\n",
              "\n",
              "        [[ 73,  79,  77],\n",
              "         [ 53,  63,  68],\n",
              "         [ 54,  68,  80],\n",
              "         ...,\n",
              "         [ 17,  40,  64],\n",
              "         [ 21,  36,  51],\n",
              "         [ 33,  48,  49]],\n",
              "\n",
              "        [[ 61,  68,  75],\n",
              "         [ 55,  70,  86],\n",
              "         [ 57,  79, 103],\n",
              "         ...,\n",
              "         [ 24,  48,  72],\n",
              "         [ 17,  35,  53],\n",
              "         [  7,  23,  32]],\n",
              "\n",
              "        [[ 44,  56,  73],\n",
              "         [ 46,  66,  88],\n",
              "         [ 49,  77, 105],\n",
              "         ...,\n",
              "         [ 27,  52,  77],\n",
              "         [ 21,  43,  66],\n",
              "         [ 12,  31,  50]]],\n",
              "\n",
              "\n",
              "       [[[189, 211, 240],\n",
              "         [186, 208, 236],\n",
              "         [185, 207, 235],\n",
              "         ...,\n",
              "         [175, 195, 224],\n",
              "         [172, 194, 222],\n",
              "         [169, 194, 220]],\n",
              "\n",
              "        [[194, 210, 239],\n",
              "         [191, 207, 236],\n",
              "         [190, 206, 235],\n",
              "         ...,\n",
              "         [173, 192, 220],\n",
              "         [171, 191, 218],\n",
              "         [167, 190, 216]],\n",
              "\n",
              "        [[208, 219, 244],\n",
              "         [205, 216, 240],\n",
              "         [204, 215, 239],\n",
              "         ...,\n",
              "         [175, 191, 217],\n",
              "         [172, 190, 216],\n",
              "         [169, 191, 215]],\n",
              "\n",
              "        ...,\n",
              "\n",
              "        [[207, 199, 181],\n",
              "         [203, 195, 175],\n",
              "         [203, 196, 173],\n",
              "         ...,\n",
              "         [135, 132, 127],\n",
              "         [162, 158, 150],\n",
              "         [168, 163, 151]],\n",
              "\n",
              "        [[198, 190, 170],\n",
              "         [189, 181, 159],\n",
              "         [180, 172, 147],\n",
              "         ...,\n",
              "         [178, 171, 160],\n",
              "         [175, 169, 156],\n",
              "         [175, 169, 154]],\n",
              "\n",
              "        [[198, 189, 173],\n",
              "         [189, 181, 162],\n",
              "         [178, 170, 149],\n",
              "         ...,\n",
              "         [195, 184, 169],\n",
              "         [196, 189, 171],\n",
              "         [195, 190, 171]]],\n",
              "\n",
              "\n",
              "       [[[229, 229, 239],\n",
              "         [236, 237, 247],\n",
              "         [234, 236, 247],\n",
              "         ...,\n",
              "         [217, 219, 233],\n",
              "         [221, 223, 234],\n",
              "         [222, 223, 233]],\n",
              "\n",
              "        [[222, 221, 229],\n",
              "         [239, 239, 249],\n",
              "         [233, 234, 246],\n",
              "         ...,\n",
              "         [223, 223, 236],\n",
              "         [227, 228, 238],\n",
              "         [210, 211, 220]],\n",
              "\n",
              "        [[213, 206, 211],\n",
              "         [234, 232, 239],\n",
              "         [231, 233, 244],\n",
              "         ...,\n",
              "         [220, 220, 232],\n",
              "         [220, 219, 232],\n",
              "         [202, 203, 215]],\n",
              "\n",
              "        ...,\n",
              "\n",
              "        [[150, 143, 135],\n",
              "         [140, 135, 127],\n",
              "         [132, 127, 120],\n",
              "         ...,\n",
              "         [224, 222, 218],\n",
              "         [230, 228, 225],\n",
              "         [241, 241, 238]],\n",
              "\n",
              "        [[137, 132, 126],\n",
              "         [130, 127, 120],\n",
              "         [125, 121, 115],\n",
              "         ...,\n",
              "         [181, 180, 178],\n",
              "         [202, 201, 198],\n",
              "         [212, 211, 207]],\n",
              "\n",
              "        [[122, 119, 114],\n",
              "         [118, 116, 110],\n",
              "         [120, 116, 111],\n",
              "         ...,\n",
              "         [179, 177, 173],\n",
              "         [164, 164, 162],\n",
              "         [163, 163, 161]]]], dtype=uint8)"
            ]
          },
          "metadata": {
            "tags": []
          },
          "execution_count": 5
        }
      ]
    },
    {
      "cell_type": "code",
      "metadata": {
        "id": "C33r-0yNkJUA"
      },
      "source": [
        "X_train = X_train.astype('float32')\n",
        "X_test = X_test.astype('float32')\n",
        "X_train /= 255\n",
        "X_test /= 255"
      ],
      "execution_count": 6,
      "outputs": []
    },
    {
      "cell_type": "code",
      "metadata": {
        "colab": {
          "base_uri": "https://localhost:8080/"
        },
        "id": "jR283dOqhqJf",
        "outputId": "11d62bd6-05e8-4320-8902-b1fd7bfe6671"
      },
      "source": [
        "y_train"
      ],
      "execution_count": 7,
      "outputs": [
        {
          "output_type": "execute_result",
          "data": {
            "text/plain": [
              "array([[6],\n",
              "       [9],\n",
              "       [9],\n",
              "       ...,\n",
              "       [9],\n",
              "       [1],\n",
              "       [1]], dtype=uint8)"
            ]
          },
          "metadata": {
            "tags": []
          },
          "execution_count": 7
        }
      ]
    },
    {
      "cell_type": "code",
      "metadata": {
        "id": "VHzeTThQFEs1"
      },
      "source": [
        "Y_train = np_utils.to_categorical(y_train, nb_classes)\n",
        "Y_test = np_utils.to_categorical(y_test, nb_classes)"
      ],
      "execution_count": 8,
      "outputs": []
    },
    {
      "cell_type": "code",
      "metadata": {
        "id": "U0MLXRCqkPGC",
        "colab": {
          "base_uri": "https://localhost:8080/"
        },
        "outputId": "c3f18989-7a66-4604-e0de-8fddaae7a18a"
      },
      "source": [
        "# Создаем последовательную модель\n",
        "model = Sequential()\n",
        "# Первый сверточный слой\n",
        "model.add(Conv2D(32, (3, 3), padding='same',\n",
        "                        input_shape=(32, 32, 3), activation='relu'))\n",
        "# Второй сверточный слой\n",
        "model.add(Conv2D(32, (3, 3), activation='relu', padding='same'))\n",
        "# Первый слой подвыборки\n",
        "#model.add(MaxPooling2D(pool_size=(2, 2)))\n",
        "model.add(BatchNormalization())\n",
        "# Слой регуляризации Dropout\n",
        "model.add(Dropout(0.25))\n",
        "\n",
        "# Третий сверточный слой\n",
        "model.add(Conv2D(64, (5, 5), padding='same', activation='relu'))\n",
        "model.add(Conv2D(64, (5, 5), padding='same', activation='relu'))\n",
        "model.add(BatchNormalization())\n",
        "# Второй слой подвыборки\n",
        "#model.add(MaxPooling2D(pool_size=(2, 2)))\n",
        "# Слой регуляризации Dropout\n",
        "model.add(Dropout(0.5))\n",
        "\n",
        "model.add(Conv2D(128, (7, 7), padding='same', activation='relu'))\n",
        "model.add(Conv2D(128, (7, 7), activation='relu'))\n",
        "model.add(BatchNormalization())\n",
        "# Второй слой подвыборки\n",
        "#model.add(MaxPooling2D(pool_size=(2, 2)))\n",
        "# Слой регуляризации Dropout\n",
        "model.add(Dropout(0.6))\n",
        "\n",
        "# Слой преобразования данных из 2D представления в плоское\n",
        "model.add(Flatten())\n",
        "# Полносвязный слой для классификации\n",
        "model.add(Dense(512, activation='relu'))\n",
        "# Слой регуляризации Dropout\n",
        "model.add(Dropout(0.5))\n",
        "# Выходной полносвязный слой\n",
        "model.add(Dense(nb_classes, activation='softmax'))\n",
        "model.summary()"
      ],
      "execution_count": 9,
      "outputs": [
        {
          "output_type": "stream",
          "text": [
            "Model: \"sequential\"\n",
            "_________________________________________________________________\n",
            "Layer (type)                 Output Shape              Param #   \n",
            "=================================================================\n",
            "conv2d (Conv2D)              (None, 32, 32, 32)        896       \n",
            "_________________________________________________________________\n",
            "conv2d_1 (Conv2D)            (None, 32, 32, 32)        9248      \n",
            "_________________________________________________________________\n",
            "batch_normalization (BatchNo (None, 32, 32, 32)        128       \n",
            "_________________________________________________________________\n",
            "dropout (Dropout)            (None, 32, 32, 32)        0         \n",
            "_________________________________________________________________\n",
            "conv2d_2 (Conv2D)            (None, 32, 32, 64)        51264     \n",
            "_________________________________________________________________\n",
            "conv2d_3 (Conv2D)            (None, 32, 32, 64)        102464    \n",
            "_________________________________________________________________\n",
            "batch_normalization_1 (Batch (None, 32, 32, 64)        256       \n",
            "_________________________________________________________________\n",
            "dropout_1 (Dropout)          (None, 32, 32, 64)        0         \n",
            "_________________________________________________________________\n",
            "conv2d_4 (Conv2D)            (None, 32, 32, 128)       401536    \n",
            "_________________________________________________________________\n",
            "conv2d_5 (Conv2D)            (None, 26, 26, 128)       802944    \n",
            "_________________________________________________________________\n",
            "batch_normalization_2 (Batch (None, 26, 26, 128)       512       \n",
            "_________________________________________________________________\n",
            "dropout_2 (Dropout)          (None, 26, 26, 128)       0         \n",
            "_________________________________________________________________\n",
            "flatten (Flatten)            (None, 86528)             0         \n",
            "_________________________________________________________________\n",
            "dense (Dense)                (None, 512)               44302848  \n",
            "_________________________________________________________________\n",
            "dropout_3 (Dropout)          (None, 512)               0         \n",
            "_________________________________________________________________\n",
            "dense_1 (Dense)              (None, 10)                5130      \n",
            "=================================================================\n",
            "Total params: 45,677,226\n",
            "Trainable params: 45,676,778\n",
            "Non-trainable params: 448\n",
            "_________________________________________________________________\n"
          ],
          "name": "stdout"
        }
      ]
    },
    {
      "cell_type": "code",
      "metadata": {
        "id": "VyVlJMdGkrv-"
      },
      "source": [
        "model.compile(loss='categorical_crossentropy',\n",
        "              optimizer='adam',\n",
        "              metrics=['accuracy'])"
      ],
      "execution_count": 10,
      "outputs": []
    },
    {
      "cell_type": "code",
      "metadata": {
        "id": "kyH5Ec9RkznF",
        "colab": {
          "base_uri": "https://localhost:8080/"
        },
        "outputId": "1ee687ce-921c-4d48-f1bd-5d8c8a08beed"
      },
      "source": [
        "history = model.fit(X_train, Y_train,\n",
        "              batch_size=batch_size,\n",
        "              epochs=25,\n",
        "              validation_split=0.1,\n",
        "              shuffle=True,\n",
        "              verbose=1)"
      ],
      "execution_count": 11,
      "outputs": [
        {
          "output_type": "stream",
          "text": [
            "Epoch 1/25\n",
            "352/352 [==============================] - 56s 69ms/step - loss: 2.7480 - accuracy: 0.2876 - val_loss: 4.7383 - val_accuracy: 0.1866\n",
            "Epoch 2/25\n",
            "352/352 [==============================] - 23s 65ms/step - loss: 1.4376 - accuracy: 0.4850 - val_loss: 1.0898 - val_accuracy: 0.6144\n",
            "Epoch 3/25\n",
            "352/352 [==============================] - 23s 65ms/step - loss: 1.2207 - accuracy: 0.5675 - val_loss: 0.9593 - val_accuracy: 0.6538\n",
            "Epoch 4/25\n",
            "352/352 [==============================] - 23s 65ms/step - loss: 1.0622 - accuracy: 0.6265 - val_loss: 0.9332 - val_accuracy: 0.6826\n",
            "Epoch 5/25\n",
            "352/352 [==============================] - 23s 65ms/step - loss: 0.9438 - accuracy: 0.6716 - val_loss: 0.8265 - val_accuracy: 0.7186\n",
            "Epoch 6/25\n",
            "352/352 [==============================] - 23s 64ms/step - loss: 0.8781 - accuracy: 0.6970 - val_loss: 0.9983 - val_accuracy: 0.6896\n",
            "Epoch 7/25\n",
            "352/352 [==============================] - 23s 65ms/step - loss: 0.8134 - accuracy: 0.7212 - val_loss: 0.7445 - val_accuracy: 0.7520\n",
            "Epoch 8/25\n",
            "352/352 [==============================] - 23s 65ms/step - loss: 0.7547 - accuracy: 0.7366 - val_loss: 0.8977 - val_accuracy: 0.7174\n",
            "Epoch 9/25\n",
            "352/352 [==============================] - 23s 64ms/step - loss: 0.7093 - accuracy: 0.7555 - val_loss: 0.9445 - val_accuracy: 0.7408\n",
            "Epoch 10/25\n",
            "352/352 [==============================] - 23s 65ms/step - loss: 0.6766 - accuracy: 0.7663 - val_loss: 1.0450 - val_accuracy: 0.7382\n",
            "Epoch 11/25\n",
            "352/352 [==============================] - 23s 66ms/step - loss: 0.6305 - accuracy: 0.7837 - val_loss: 0.7316 - val_accuracy: 0.7722\n",
            "Epoch 12/25\n",
            "352/352 [==============================] - 23s 65ms/step - loss: 0.5956 - accuracy: 0.7960 - val_loss: 0.7079 - val_accuracy: 0.7790\n",
            "Epoch 13/25\n",
            "352/352 [==============================] - 23s 65ms/step - loss: 0.5688 - accuracy: 0.8040 - val_loss: 0.6912 - val_accuracy: 0.7944\n",
            "Epoch 14/25\n",
            "352/352 [==============================] - 23s 65ms/step - loss: 0.5276 - accuracy: 0.8172 - val_loss: 0.7248 - val_accuracy: 0.7658\n",
            "Epoch 15/25\n",
            "352/352 [==============================] - 23s 65ms/step - loss: 0.4989 - accuracy: 0.8274 - val_loss: 0.7174 - val_accuracy: 0.7730\n",
            "Epoch 16/25\n",
            "352/352 [==============================] - 23s 64ms/step - loss: 0.4659 - accuracy: 0.8401 - val_loss: 0.6822 - val_accuracy: 0.7982\n",
            "Epoch 17/25\n",
            "352/352 [==============================] - 23s 65ms/step - loss: 0.4409 - accuracy: 0.8460 - val_loss: 0.6467 - val_accuracy: 0.8076\n",
            "Epoch 18/25\n",
            "352/352 [==============================] - 23s 65ms/step - loss: 0.4254 - accuracy: 0.8548 - val_loss: 0.6034 - val_accuracy: 0.8066\n",
            "Epoch 19/25\n",
            "352/352 [==============================] - 23s 65ms/step - loss: 0.3987 - accuracy: 0.8645 - val_loss: 0.6118 - val_accuracy: 0.8236\n",
            "Epoch 20/25\n",
            "352/352 [==============================] - 23s 65ms/step - loss: 0.3794 - accuracy: 0.8703 - val_loss: 0.6667 - val_accuracy: 0.7984\n",
            "Epoch 21/25\n",
            "352/352 [==============================] - 23s 65ms/step - loss: 0.3509 - accuracy: 0.8771 - val_loss: 0.6902 - val_accuracy: 0.8068\n",
            "Epoch 22/25\n",
            "352/352 [==============================] - 23s 65ms/step - loss: 0.3417 - accuracy: 0.8823 - val_loss: 0.5383 - val_accuracy: 0.8292\n",
            "Epoch 23/25\n",
            "352/352 [==============================] - 23s 65ms/step - loss: 0.3291 - accuracy: 0.8855 - val_loss: 0.7066 - val_accuracy: 0.8252\n",
            "Epoch 24/25\n",
            "352/352 [==============================] - 23s 66ms/step - loss: 0.3120 - accuracy: 0.8943 - val_loss: 0.6144 - val_accuracy: 0.8306\n",
            "Epoch 25/25\n",
            "352/352 [==============================] - 23s 65ms/step - loss: 0.3051 - accuracy: 0.8965 - val_loss: 0.6428 - val_accuracy: 0.8166\n"
          ],
          "name": "stdout"
        }
      ]
    },
    {
      "cell_type": "code",
      "metadata": {
        "id": "5y4AHwlNou5y",
        "colab": {
          "base_uri": "https://localhost:8080/"
        },
        "outputId": "1fc1b9d7-fcc2-4f6b-efb5-293e517646dc"
      },
      "source": [
        "# Оцениваем качество обучения модели на тестовых данных\n",
        "scores = model.evaluate(X_test, Y_test, verbose=0)\n",
        "print(\"Точность работы на тестовых данных: %.2f%%\" % (scores[1]*100))"
      ],
      "execution_count": 12,
      "outputs": [
        {
          "output_type": "stream",
          "text": [
            "Точность работы на тестовых данных: 80.99%\n"
          ],
          "name": "stdout"
        }
      ]
    },
    {
      "cell_type": "code",
      "metadata": {
        "id": "Z_xxp2UrNJvz",
        "colab": {
          "base_uri": "https://localhost:8080/",
          "height": 279
        },
        "outputId": "f214fa60-8825-4816-ae74-41781b05cac0"
      },
      "source": [
        "history_dict = history.history\n",
        "acc_values = history_dict['accuracy']\n",
        "val_acc_values = history_dict['val_accuracy']\n",
        "epochs = range(1, len(acc_values) + 1)\n",
        "plt.plot(epochs, acc_values, 'bo', label='Training acc')\n",
        "plt.plot(epochs, val_acc_values, 'b', label='Validation acc')\n",
        "plt.xlabel('Epochs')\n",
        "plt.ylabel('Accuracy')\n",
        "plt.legend()\n",
        "plt.grid()\n",
        "plt.show()"
      ],
      "execution_count": 13,
      "outputs": [
        {
          "output_type": "display_data",
          "data": {
            "image/png": "[encoded data removed]",
            "text/plain": [
              "<Figure size 432x288 with 1 Axes>"
            ]
          },
          "metadata": {
            "tags": [],
            "needs_background": "light"
          }
        }
      ]
    },
    {
      "cell_type": "code",
      "metadata": {
        "id": "yQkS6zDVBycO",
        "outputId": "4926e5b6-43b3-4d5a-834b-4bc84002fa94",
        "colab": {
          "base_uri": "https://localhost:8080/",
          "height": 684
        }
      },
      "source": [
        "loss_values = history_dict['loss']\n",
        "val_loss_values = history_dict['val_loss']\n",
        "epochs = range(1, len(loss_values) + 1)\n",
        "f,ax=plt.subplots(1,2,figsize=(18,8))\n",
        "ax[0][0].plot(epochs, loss_values)\n",
        "ax[0][1].plot(epochs, val_loss_values, 'b', label='Validation loss')\n",
        "plt.show()"
      ],
      "execution_count": 16,
      "outputs": [
        {
          "output_type": "error",
          "ename": "TypeError",
          "evalue": "ignored",
          "traceback": [
            "\u001b[0;31m---------------------------------------------------------------------------\u001b[0m",
            "\u001b[0;31mTypeError\u001b[0m                                 Traceback (most recent call last)",
            "\u001b[0;32m<ipython-input-16-c5938c38ea27>\u001b[0m in \u001b[0;36m<module>\u001b[0;34m()\u001b[0m\n\u001b[1;32m      4\u001b[0m \u001b[0mf\u001b[0m\u001b[0;34m,\u001b[0m\u001b[0max\u001b[0m\u001b[0;34m=\u001b[0m\u001b[0mplt\u001b[0m\u001b[0;34m.\u001b[0m\u001b[0msubplots\u001b[0m\u001b[0;34m(\u001b[0m\u001b[0;36m1\u001b[0m\u001b[0;34m,\u001b[0m\u001b[0;36m2\u001b[0m\u001b[0;34m,\u001b[0m\u001b[0mfigsize\u001b[0m\u001b[0;34m=\u001b[0m\u001b[0;34m(\u001b[0m\u001b[0;36m18\u001b[0m\u001b[0;34m,\u001b[0m\u001b[0;36m8\u001b[0m\u001b[0;34m)\u001b[0m\u001b[0;34m)\u001b[0m\u001b[0;34m\u001b[0m\u001b[0;34m\u001b[0m\u001b[0m\n\u001b[1;32m      5\u001b[0m \u001b[0;31m#ax[0][0].plot(epochs, loss_values)\u001b[0m\u001b[0;34m\u001b[0m\u001b[0;34m\u001b[0m\u001b[0;34m\u001b[0m\u001b[0m\n\u001b[0;32m----> 6\u001b[0;31m \u001b[0max\u001b[0m\u001b[0;34m[\u001b[0m\u001b[0;36m0\u001b[0m\u001b[0;34m]\u001b[0m\u001b[0;34m[\u001b[0m\u001b[0;36m1\u001b[0m\u001b[0;34m]\u001b[0m\u001b[0;34m.\u001b[0m\u001b[0mplot\u001b[0m\u001b[0;34m(\u001b[0m\u001b[0mepochs\u001b[0m\u001b[0;34m,\u001b[0m \u001b[0mval_loss_values\u001b[0m\u001b[0;34m,\u001b[0m \u001b[0;34m'b'\u001b[0m\u001b[0;34m,\u001b[0m \u001b[0mlabel\u001b[0m\u001b[0;34m=\u001b[0m\u001b[0;34m'Validation loss'\u001b[0m\u001b[0;34m)\u001b[0m\u001b[0;34m\u001b[0m\u001b[0;34m\u001b[0m\u001b[0m\n\u001b[0m\u001b[1;32m      7\u001b[0m \u001b[0mplt\u001b[0m\u001b[0;34m.\u001b[0m\u001b[0mshow\u001b[0m\u001b[0;34m(\u001b[0m\u001b[0;34m)\u001b[0m\u001b[0;34m\u001b[0m\u001b[0;34m\u001b[0m\u001b[0m\n",
            "\u001b[0;31mTypeError\u001b[0m: 'AxesSubplot' object is not subscriptable"
          ]
        },
        {
          "output_type": "display_data",
          "data": {
            "image/png": "[encoded data removed]",
            "text/plain": [
              "<Figure size 1296x576 with 2 Axes>"
            ]
          },
          "metadata": {
            "tags": [],
            "needs_background": "light"
          }
        }
      ]
    },
    {
      "cell_type": "code",
      "metadata": {
        "id": "Hig0d3VOBplC",
        "colab": {
          "base_uri": "https://localhost:8080/",
          "height": 266
        },
        "outputId": "329b6ee5-4ffe-469d-a9d1-8752ab51ae0e"
      },
      "source": [
        "index=11\n",
        "plt.imshow(X_test[index])\n",
        "plt.show()"
      ],
      "execution_count": null,
      "outputs": [
        {
          "output_type": "display_data",
          "data": {
            "image/png": "[encoded data removed]",
            "text/plain": [
              "<Figure size 432x288 with 1 Axes>"
            ]
          },
          "metadata": {
            "tags": [],
            "needs_background": "light"
          }
        }
      ]
    },
    {
      "cell_type": "code",
      "metadata": {
        "id": "3esNvLN3YmwM"
      },
      "source": [
        "x = X_test[index]\n",
        "x = np.expand_dims(x, axis=0)"
      ],
      "execution_count": null,
      "outputs": []
    },
    {
      "cell_type": "code",
      "metadata": {
        "id": "QTdXEhQ3X13R"
      },
      "source": [
        "prediction = model.predict(x)"
      ],
      "execution_count": null,
      "outputs": []
    },
    {
      "cell_type": "code",
      "metadata": {
        "id": "ynzKYg0aS-3M",
        "colab": {
          "base_uri": "https://localhost:8080/"
        },
        "outputId": "6dadab92-05aa-4efd-8ae9-a772563ae30e"
      },
      "source": [
        "print(prediction)"
      ],
      "execution_count": null,
      "outputs": [
        {
          "output_type": "stream",
          "text": [
            "[[1.7015606e-11 9.3794987e-04 1.5676325e-14 1.6831599e-13 1.1607262e-19\n",
            "  1.2493000e-16 8.7592494e-20 1.1125851e-14 5.4748950e-10 9.9906212e-01]]\n"
          ],
          "name": "stdout"
        }
      ]
    },
    {
      "cell_type": "markdown",
      "metadata": {
        "id": "oeeqy0cjX7j6"
      },
      "source": [
        "**Запускаем распознавание**"
      ]
    },
    {
      "cell_type": "code",
      "metadata": {
        "id": "cVIxQljlX-LZ",
        "colab": {
          "base_uri": "https://localhost:8080/"
        },
        "outputId": "f8ae9395-1795-4fa8-9806-1d9bc258dc6c"
      },
      "source": [
        "prediction = np.argmax(prediction)\n",
        "print(classes[prediction])"
      ],
      "execution_count": null,
      "outputs": [
        {
          "output_type": "stream",
          "text": [
            "грузовик\n"
          ],
          "name": "stdout"
        }
      ]
    },
    {
      "cell_type": "code",
      "metadata": {
        "id": "krPNrEmsTEDw",
        "colab": {
          "base_uri": "https://localhost:8080/"
        },
        "outputId": "3583fab5-4779-49e7-9517-8a2db9aead84"
      },
      "source": [
        "print(classes[y_test[index][0]])"
      ],
      "execution_count": null,
      "outputs": [
        {
          "output_type": "stream",
          "text": [
            "грузовик\n"
          ],
          "name": "stdout"
        }
      ]
    },
    {
      "cell_type": "code",
      "metadata": {
        "colab": {
          "base_uri": "https://localhost:8080/"
        },
        "id": "LjcbAzaU6CpR",
        "outputId": "ce6182b0-296d-4aab-a2d5-af6881e0e68f"
      },
      "source": [
        "outputs = [layer.output for layer in model.layers]          # all layer outputs\n",
        "outputs"
      ],
      "execution_count": null,
      "outputs": [
        {
          "output_type": "execute_result",
          "data": {
            "text/plain": [
              "[<KerasTensor: shape=(None, 32, 32, 32) dtype=float32 (created by layer 'conv2d_3')>,\n",
              " <KerasTensor: shape=(None, 32, 32, 32) dtype=float32 (created by layer 'conv2d_4')>,\n",
              " <KerasTensor: shape=(None, 16, 16, 32) dtype=float32 (created by layer 'max_pooling2d_2')>,\n",
              " <KerasTensor: shape=(None, 16, 16, 32) dtype=float32 (created by layer 'dropout_3')>,\n",
              " <KerasTensor: shape=(None, 16, 16, 64) dtype=float32 (created by layer 'conv2d_5')>,\n",
              " <KerasTensor: shape=(None, 8, 8, 64) dtype=float32 (created by layer 'max_pooling2d_3')>,\n",
              " <KerasTensor: shape=(None, 8, 8, 64) dtype=float32 (created by layer 'dropout_4')>,\n",
              " <KerasTensor: shape=(None, 4096) dtype=float32 (created by layer 'flatten_1')>,\n",
              " <KerasTensor: shape=(None, 512) dtype=float32 (created by layer 'dense_2')>,\n",
              " <KerasTensor: shape=(None, 512) dtype=float32 (created by layer 'dropout_5')>,\n",
              " <KerasTensor: shape=(None, 10) dtype=float32 (created by layer 'dense_3')>]"
            ]
          },
          "metadata": {
            "tags": []
          },
          "execution_count": 68
        }
      ]
    },
    {
      "cell_type": "code",
      "metadata": {
        "id": "8bRDDq-rBt1L"
      },
      "source": [
        "from keras.models import Model\n",
        "\n",
        "layer_name = 'conv2d_3'\n",
        "intermediate_layer_model = Model(inputs=model.input,\n",
        "                                 outputs=model.get_layer(layer_name).output)\n",
        "intermediate_output = intermediate_layer_model.predict(X_test)"
      ],
      "execution_count": null,
      "outputs": []
    },
    {
      "cell_type": "code",
      "metadata": {
        "colab": {
          "base_uri": "https://localhost:8080/"
        },
        "id": "gO8tLMw0CyLa",
        "outputId": "6045412a-6f4c-4e15-daa7-c22cb4c84fe9"
      },
      "source": [
        "np.shape(intermediate_output)"
      ],
      "execution_count": null,
      "outputs": [
        {
          "output_type": "execute_result",
          "data": {
            "text/plain": [
              "(10000, 32, 32, 32)"
            ]
          },
          "metadata": {
            "tags": []
          },
          "execution_count": 89
        }
      ]
    },
    {
      "cell_type": "code",
      "metadata": {
        "colab": {
          "base_uri": "https://localhost:8080/",
          "height": 451
        },
        "id": "b-jgkDsvDhDs",
        "outputId": "9772bad4-aa6e-4073-fc03-eb45b0cfc509"
      },
      "source": [
        "row_size=4\n",
        "col_size=8\n",
        "img_index=0\n",
        "\n",
        "fig,ax=plt.subplots(row_size,col_size,figsize=(10,8))\n",
        "\n",
        "for row in range(0,row_size):\n",
        "  for col in range(0,col_size):\n",
        "    ax[row][col].imshow(intermediate_output[1, :, :, img_index], cmap='gray')\n",
        "    img_index=img_index+1"
      ],
      "execution_count": null,
      "outputs": [
        {
          "output_type": "display_data",
          "data": {
            "image/png": "[encoded data removed]",
            "text/plain": [
              "<Figure size 720x576 with 32 Axes>"
            ]
          },
          "metadata": {
            "tags": [],
            "needs_background": "light"
          }
        }
      ]
    }
  ]
}