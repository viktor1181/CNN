{
  "nbformat": 4,
  "nbformat_minor": 0,
  "metadata": {
    "colab": {
      "name": "CNN",
      "provenance": [],
      "include_colab_link": true
    },
    "kernelspec": {
      "name": "python3",
      "display_name": "Python 3"
    },
    "accelerator": "GPU"
  },
  "cells": [
    {
      "cell_type": "markdown",
      "metadata": {
        "id": "view-in-github",
        "colab_type": "text"
      },
      "source": [
        "<a href=\"https://colab.research.google.com/github/viktor1181/CNN/blob/main/CNN.ipynb\" target=\"_parent\"><img src=\"https://colab.research.google.com/assets/colab-badge.svg\" alt=\"Open In Colab\"/></a>"
      ]
    },
    {
      "cell_type": "code",
      "metadata": {
        "id": "T6hmBuIyjRUu"
      },
      "source": [
        "import numpy as np\n",
        "from keras.datasets import cifar10\n",
        "from keras.models import Sequential\n",
        "from keras.layers import Dense, Flatten\n",
        "from keras.layers import Dropout\n",
        "from keras.layers.convolutional import Conv2D, MaxPooling2D\n",
        "from keras.utils import np_utils\n",
        "from keras.preprocessing import image\n",
        "import matplotlib.pyplot as plt\n",
        "%matplotlib inline "
      ],
      "execution_count": 36,
      "outputs": []
    },
    {
      "cell_type": "code",
      "metadata": {
        "id": "PfEKaHglj2VL"
      },
      "source": [
        "# Размер мини-выборки\n",
        "batch_size = 128\n",
        "# Количество классов изображений\n",
        "nb_classes = 10\n",
        "# Количество эпох для обучения\n",
        "nb_epoch = 25\n",
        "# Размер изображений\n",
        "img_rows, img_cols = 32, 32\n",
        "# Количество каналов в изображении: RGB\n",
        "img_channels = 3\n",
        "# Названия классов из набора данных CIFAR-10\n",
        "classes=['самолет', 'автомобиль', 'птица', 'кот', 'олень', 'собака', 'лягушка', 'лошадь', 'корабль', 'грузовик']"
      ],
      "execution_count": 37,
      "outputs": []
    },
    {
      "cell_type": "code",
      "metadata": {
        "id": "ARLcknFUj4Oc"
      },
      "source": [
        "(X_train, y_train), (X_test, y_test) = cifar10.load_data()"
      ],
      "execution_count": 38,
      "outputs": []
    },
    {
      "cell_type": "code",
      "metadata": {
        "id": "KCXgj92ckE-J",
        "colab": {
          "base_uri": "https://localhost:8080/",
          "height": 300
        },
        "outputId": "5aa4daae-32a6-4310-b72c-f83152ea1b34"
      },
      "source": [
        "n = 1\n",
        "plt.imshow(X_train[n])\n",
        "plt.show()\n",
        "print(\"Номер класса:\", y_train[n])\n",
        "print(\"Тип объекта:\", classes[y_train[n][0]])"
      ],
      "execution_count": 39,
      "outputs": [
        {
          "output_type": "display_data",
          "data": {
            "image/png": "[encoded data removed]",
            "text/plain": [
              "<Figure size 432x288 with 1 Axes>"
            ]
          },
          "metadata": {
            "tags": [],
            "needs_background": "light"
          }
        },
        {
          "output_type": "stream",
          "text": [
            "Номер класса: [9]\n",
            "Тип объекта: грузовик\n"
          ],
          "name": "stdout"
        }
      ]
    },
    {
      "cell_type": "code",
      "metadata": {
        "id": "5d1X8Zzlg3aw",
        "colab": {
          "base_uri": "https://localhost:8080/"
        },
        "outputId": "714d8bf3-6e8d-4271-ce58-8530644b9ce0"
      },
      "source": [
        "X_train"
      ],
      "execution_count": 40,
      "outputs": [
        {
          "output_type": "execute_result",
          "data": {
            "text/plain": [
              "array([[[[ 59,  62,  63],\n",
              "         [ 43,  46,  45],\n",
              "         [ 50,  48,  43],\n",
              "         ...,\n",
              "         [158, 132, 108],\n",
              "         [152, 125, 102],\n",
              "         [148, 124, 103]],\n",
              "\n",
              "        [[ 16,  20,  20],\n",
              "         [  0,   0,   0],\n",
              "         [ 18,   8,   0],\n",
              "         ...,\n",
              "         [123,  88,  55],\n",
              "         [119,  83,  50],\n",
              "         [122,  87,  57]],\n",
              "\n",
              "        [[ 25,  24,  21],\n",
              "         [ 16,   7,   0],\n",
              "         [ 49,  27,   8],\n",
              "         ...,\n",
              "         [118,  84,  50],\n",
              "         [120,  84,  50],\n",
              "         [109,  73,  42]],\n",
              "\n",
              "        ...,\n",
              "\n",
              "        [[208, 170,  96],\n",
              "         [201, 153,  34],\n",
              "         [198, 161,  26],\n",
              "         ...,\n",
              "         [160, 133,  70],\n",
              "         [ 56,  31,   7],\n",
              "         [ 53,  34,  20]],\n",
              "\n",
              "        [[180, 139,  96],\n",
              "         [173, 123,  42],\n",
              "         [186, 144,  30],\n",
              "         ...,\n",
              "         [184, 148,  94],\n",
              "         [ 97,  62,  34],\n",
              "         [ 83,  53,  34]],\n",
              "\n",
              "        [[177, 144, 116],\n",
              "         [168, 129,  94],\n",
              "         [179, 142,  87],\n",
              "         ...,\n",
              "         [216, 184, 140],\n",
              "         [151, 118,  84],\n",
              "         [123,  92,  72]]],\n",
              "\n",
              "\n",
              "       [[[154, 177, 187],\n",
              "         [126, 137, 136],\n",
              "         [105, 104,  95],\n",
              "         ...,\n",
              "         [ 91,  95,  71],\n",
              "         [ 87,  90,  71],\n",
              "         [ 79,  81,  70]],\n",
              "\n",
              "        [[140, 160, 169],\n",
              "         [145, 153, 154],\n",
              "         [125, 125, 118],\n",
              "         ...,\n",
              "         [ 96,  99,  78],\n",
              "         [ 77,  80,  62],\n",
              "         [ 71,  73,  61]],\n",
              "\n",
              "        [[140, 155, 164],\n",
              "         [139, 146, 149],\n",
              "         [115, 115, 112],\n",
              "         ...,\n",
              "         [ 79,  82,  64],\n",
              "         [ 68,  70,  55],\n",
              "         [ 67,  69,  55]],\n",
              "\n",
              "        ...,\n",
              "\n",
              "        [[175, 167, 166],\n",
              "         [156, 154, 160],\n",
              "         [154, 160, 170],\n",
              "         ...,\n",
              "         [ 42,  34,  36],\n",
              "         [ 61,  53,  57],\n",
              "         [ 93,  83,  91]],\n",
              "\n",
              "        [[165, 154, 128],\n",
              "         [156, 152, 130],\n",
              "         [159, 161, 142],\n",
              "         ...,\n",
              "         [103,  93,  96],\n",
              "         [123, 114, 120],\n",
              "         [131, 121, 131]],\n",
              "\n",
              "        [[163, 148, 120],\n",
              "         [158, 148, 122],\n",
              "         [163, 156, 133],\n",
              "         ...,\n",
              "         [143, 133, 139],\n",
              "         [143, 134, 142],\n",
              "         [143, 133, 144]]],\n",
              "\n",
              "\n",
              "       [[[255, 255, 255],\n",
              "         [253, 253, 253],\n",
              "         [253, 253, 253],\n",
              "         ...,\n",
              "         [253, 253, 253],\n",
              "         [253, 253, 253],\n",
              "         [253, 253, 253]],\n",
              "\n",
              "        [[255, 255, 255],\n",
              "         [255, 255, 255],\n",
              "         [255, 255, 255],\n",
              "         ...,\n",
              "         [255, 255, 255],\n",
              "         [255, 255, 255],\n",
              "         [255, 255, 255]],\n",
              "\n",
              "        [[255, 255, 255],\n",
              "         [254, 254, 254],\n",
              "         [254, 254, 254],\n",
              "         ...,\n",
              "         [254, 254, 254],\n",
              "         [254, 254, 254],\n",
              "         [254, 254, 254]],\n",
              "\n",
              "        ...,\n",
              "\n",
              "        [[113, 120, 112],\n",
              "         [111, 118, 111],\n",
              "         [105, 112, 106],\n",
              "         ...,\n",
              "         [ 72,  81,  80],\n",
              "         [ 72,  80,  79],\n",
              "         [ 72,  80,  79]],\n",
              "\n",
              "        [[111, 118, 110],\n",
              "         [104, 111, 104],\n",
              "         [ 99, 106,  98],\n",
              "         ...,\n",
              "         [ 68,  75,  73],\n",
              "         [ 70,  76,  75],\n",
              "         [ 78,  84,  82]],\n",
              "\n",
              "        [[106, 113, 105],\n",
              "         [ 99, 106,  98],\n",
              "         [ 95, 102,  94],\n",
              "         ...,\n",
              "         [ 78,  85,  83],\n",
              "         [ 79,  85,  83],\n",
              "         [ 80,  86,  84]]],\n",
              "\n",
              "\n",
              "       ...,\n",
              "\n",
              "\n",
              "       [[[ 35, 178, 235],\n",
              "         [ 40, 176, 239],\n",
              "         [ 42, 176, 241],\n",
              "         ...,\n",
              "         [ 99, 177, 219],\n",
              "         [ 79, 147, 197],\n",
              "         [ 89, 148, 189]],\n",
              "\n",
              "        [[ 57, 182, 234],\n",
              "         [ 44, 184, 250],\n",
              "         [ 50, 183, 240],\n",
              "         ...,\n",
              "         [156, 182, 200],\n",
              "         [141, 177, 206],\n",
              "         [116, 149, 175]],\n",
              "\n",
              "        [[ 98, 197, 237],\n",
              "         [ 64, 189, 252],\n",
              "         [ 69, 192, 245],\n",
              "         ...,\n",
              "         [188, 195, 206],\n",
              "         [119, 135, 147],\n",
              "         [ 61,  79,  90]],\n",
              "\n",
              "        ...,\n",
              "\n",
              "        [[ 73,  79,  77],\n",
              "         [ 53,  63,  68],\n",
              "         [ 54,  68,  80],\n",
              "         ...,\n",
              "         [ 17,  40,  64],\n",
              "         [ 21,  36,  51],\n",
              "         [ 33,  48,  49]],\n",
              "\n",
              "        [[ 61,  68,  75],\n",
              "         [ 55,  70,  86],\n",
              "         [ 57,  79, 103],\n",
              "         ...,\n",
              "         [ 24,  48,  72],\n",
              "         [ 17,  35,  53],\n",
              "         [  7,  23,  32]],\n",
              "\n",
              "        [[ 44,  56,  73],\n",
              "         [ 46,  66,  88],\n",
              "         [ 49,  77, 105],\n",
              "         ...,\n",
              "         [ 27,  52,  77],\n",
              "         [ 21,  43,  66],\n",
              "         [ 12,  31,  50]]],\n",
              "\n",
              "\n",
              "       [[[189, 211, 240],\n",
              "         [186, 208, 236],\n",
              "         [185, 207, 235],\n",
              "         ...,\n",
              "         [175, 195, 224],\n",
              "         [172, 194, 222],\n",
              "         [169, 194, 220]],\n",
              "\n",
              "        [[194, 210, 239],\n",
              "         [191, 207, 236],\n",
              "         [190, 206, 235],\n",
              "         ...,\n",
              "         [173, 192, 220],\n",
              "         [171, 191, 218],\n",
              "         [167, 190, 216]],\n",
              "\n",
              "        [[208, 219, 244],\n",
              "         [205, 216, 240],\n",
              "         [204, 215, 239],\n",
              "         ...,\n",
              "         [175, 191, 217],\n",
              "         [172, 190, 216],\n",
              "         [169, 191, 215]],\n",
              "\n",
              "        ...,\n",
              "\n",
              "        [[207, 199, 181],\n",
              "         [203, 195, 175],\n",
              "         [203, 196, 173],\n",
              "         ...,\n",
              "         [135, 132, 127],\n",
              "         [162, 158, 150],\n",
              "         [168, 163, 151]],\n",
              "\n",
              "        [[198, 190, 170],\n",
              "         [189, 181, 159],\n",
              "         [180, 172, 147],\n",
              "         ...,\n",
              "         [178, 171, 160],\n",
              "         [175, 169, 156],\n",
              "         [175, 169, 154]],\n",
              "\n",
              "        [[198, 189, 173],\n",
              "         [189, 181, 162],\n",
              "         [178, 170, 149],\n",
              "         ...,\n",
              "         [195, 184, 169],\n",
              "         [196, 189, 171],\n",
              "         [195, 190, 171]]],\n",
              "\n",
              "\n",
              "       [[[229, 229, 239],\n",
              "         [236, 237, 247],\n",
              "         [234, 236, 247],\n",
              "         ...,\n",
              "         [217, 219, 233],\n",
              "         [221, 223, 234],\n",
              "         [222, 223, 233]],\n",
              "\n",
              "        [[222, 221, 229],\n",
              "         [239, 239, 249],\n",
              "         [233, 234, 246],\n",
              "         ...,\n",
              "         [223, 223, 236],\n",
              "         [227, 228, 238],\n",
              "         [210, 211, 220]],\n",
              "\n",
              "        [[213, 206, 211],\n",
              "         [234, 232, 239],\n",
              "         [231, 233, 244],\n",
              "         ...,\n",
              "         [220, 220, 232],\n",
              "         [220, 219, 232],\n",
              "         [202, 203, 215]],\n",
              "\n",
              "        ...,\n",
              "\n",
              "        [[150, 143, 135],\n",
              "         [140, 135, 127],\n",
              "         [132, 127, 120],\n",
              "         ...,\n",
              "         [224, 222, 218],\n",
              "         [230, 228, 225],\n",
              "         [241, 241, 238]],\n",
              "\n",
              "        [[137, 132, 126],\n",
              "         [130, 127, 120],\n",
              "         [125, 121, 115],\n",
              "         ...,\n",
              "         [181, 180, 178],\n",
              "         [202, 201, 198],\n",
              "         [212, 211, 207]],\n",
              "\n",
              "        [[122, 119, 114],\n",
              "         [118, 116, 110],\n",
              "         [120, 116, 111],\n",
              "         ...,\n",
              "         [179, 177, 173],\n",
              "         [164, 164, 162],\n",
              "         [163, 163, 161]]]], dtype=uint8)"
            ]
          },
          "metadata": {
            "tags": []
          },
          "execution_count": 40
        }
      ]
    },
    {
      "cell_type": "code",
      "metadata": {
        "id": "C33r-0yNkJUA"
      },
      "source": [
        "X_train = X_train.astype('float32')\n",
        "X_test = X_test.astype('float32')\n",
        "X_train /= 255\n",
        "X_test /= 255"
      ],
      "execution_count": 41,
      "outputs": []
    },
    {
      "cell_type": "code",
      "metadata": {
        "colab": {
          "base_uri": "https://localhost:8080/"
        },
        "id": "jR283dOqhqJf",
        "outputId": "4d8f0c55-ce2e-4b77-e249-dc10635956a2"
      },
      "source": [
        "y_train"
      ],
      "execution_count": 42,
      "outputs": [
        {
          "output_type": "execute_result",
          "data": {
            "text/plain": [
              "array([[6],\n",
              "       [9],\n",
              "       [9],\n",
              "       ...,\n",
              "       [9],\n",
              "       [1],\n",
              "       [1]], dtype=uint8)"
            ]
          },
          "metadata": {
            "tags": []
          },
          "execution_count": 42
        }
      ]
    },
    {
      "cell_type": "code",
      "metadata": {
        "id": "VHzeTThQFEs1"
      },
      "source": [
        "Y_train = np_utils.to_categorical(y_train, nb_classes)\n",
        "Y_test = np_utils.to_categorical(y_test, nb_classes)"
      ],
      "execution_count": 43,
      "outputs": []
    },
    {
      "cell_type": "code",
      "metadata": {
        "id": "U0MLXRCqkPGC",
        "colab": {
          "base_uri": "https://localhost:8080/"
        },
        "outputId": "6a64954a-3e3d-4d60-c562-97cbfeab2bc8"
      },
      "source": [
        "# Создаем последовательную модель\n",
        "model = Sequential()\n",
        "# Первый сверточный слой\n",
        "model.add(Conv2D(32, (3, 3), padding='same',\n",
        "                        input_shape=(32, 32, 3), activation='relu'))\n",
        "# Второй сверточный слой\n",
        "model.add(Conv2D(32, (3, 3), activation='relu', padding='same'))\n",
        "# Первый слой подвыборки\n",
        "model.add(MaxPooling2D(pool_size=(2, 2)))\n",
        "# Слой регуляризации Dropout\n",
        "model.add(Dropout(0.25))\n",
        "\n",
        "# Третий сверточный слой\n",
        "model.add(Conv2D(64, (3, 3), padding='same', activation='relu'))\n",
        "# Второй слой подвыборки\n",
        "model.add(MaxPooling2D(pool_size=(2, 2)))\n",
        "# Слой регуляризации Dropout\n",
        "model.add(Dropout(0.25))\n",
        "# Слой преобразования данных из 2D представления в плоское\n",
        "model.add(Flatten())\n",
        "# Полносвязный слой для классификации\n",
        "model.add(Dense(512, activation='relu'))\n",
        "# Слой регуляризации Dropout\n",
        "model.add(Dropout(0.5))\n",
        "# Выходной полносвязный слой\n",
        "model.add(Dense(nb_classes, activation='softmax'))\n",
        "model.summary()"
      ],
      "execution_count": 44,
      "outputs": [
        {
          "output_type": "stream",
          "text": [
            "Model: \"sequential_1\"\n",
            "_________________________________________________________________\n",
            "Layer (type)                 Output Shape              Param #   \n",
            "=================================================================\n",
            "conv2d_3 (Conv2D)            (None, 32, 32, 32)        896       \n",
            "_________________________________________________________________\n",
            "conv2d_4 (Conv2D)            (None, 32, 32, 32)        9248      \n",
            "_________________________________________________________________\n",
            "max_pooling2d_2 (MaxPooling2 (None, 16, 16, 32)        0         \n",
            "_________________________________________________________________\n",
            "dropout_3 (Dropout)          (None, 16, 16, 32)        0         \n",
            "_________________________________________________________________\n",
            "conv2d_5 (Conv2D)            (None, 16, 16, 64)        18496     \n",
            "_________________________________________________________________\n",
            "max_pooling2d_3 (MaxPooling2 (None, 8, 8, 64)          0         \n",
            "_________________________________________________________________\n",
            "dropout_4 (Dropout)          (None, 8, 8, 64)          0         \n",
            "_________________________________________________________________\n",
            "flatten_1 (Flatten)          (None, 4096)              0         \n",
            "_________________________________________________________________\n",
            "dense_2 (Dense)              (None, 512)               2097664   \n",
            "_________________________________________________________________\n",
            "dropout_5 (Dropout)          (None, 512)               0         \n",
            "_________________________________________________________________\n",
            "dense_3 (Dense)              (None, 10)                5130      \n",
            "=================================================================\n",
            "Total params: 2,131,434\n",
            "Trainable params: 2,131,434\n",
            "Non-trainable params: 0\n",
            "_________________________________________________________________\n"
          ],
          "name": "stdout"
        }
      ]
    },
    {
      "cell_type": "code",
      "metadata": {
        "id": "VyVlJMdGkrv-"
      },
      "source": [
        "model.compile(loss='categorical_crossentropy',\n",
        "              optimizer='adam',\n",
        "              metrics=['accuracy'])"
      ],
      "execution_count": 45,
      "outputs": []
    },
    {
      "cell_type": "code",
      "metadata": {
        "id": "kyH5Ec9RkznF",
        "colab": {
          "base_uri": "https://localhost:8080/"
        },
        "outputId": "0f8c3de5-dfd4-40e8-9b90-01098d166e1d"
      },
      "source": [
        "history = model.fit(X_train, Y_train,\n",
        "              batch_size=batch_size,\n",
        "              epochs=25,\n",
        "              validation_split=0.1,\n",
        "              shuffle=True,\n",
        "              verbose=1)"
      ],
      "execution_count": 48,
      "outputs": [
        {
          "output_type": "stream",
          "text": [
            "Epoch 1/25\n",
            "352/352 [==============================] - 4s 11ms/step - loss: 1.8675 - accuracy: 0.3120 - val_loss: 1.2544 - val_accuracy: 0.5760\n",
            "Epoch 2/25\n",
            "352/352 [==============================] - 4s 10ms/step - loss: 1.2660 - accuracy: 0.5448 - val_loss: 1.0056 - val_accuracy: 0.6478\n",
            "Epoch 3/25\n",
            "352/352 [==============================] - 4s 10ms/step - loss: 1.0784 - accuracy: 0.6187 - val_loss: 0.9083 - val_accuracy: 0.6838\n",
            "Epoch 4/25\n",
            "352/352 [==============================] - 4s 10ms/step - loss: 0.9542 - accuracy: 0.6633 - val_loss: 0.8513 - val_accuracy: 0.7092\n",
            "Epoch 5/25\n",
            "352/352 [==============================] - 4s 10ms/step - loss: 0.8702 - accuracy: 0.6929 - val_loss: 0.7819 - val_accuracy: 0.7330\n",
            "Epoch 6/25\n",
            "352/352 [==============================] - 4s 10ms/step - loss: 0.8150 - accuracy: 0.7114 - val_loss: 0.7402 - val_accuracy: 0.7508\n",
            "Epoch 7/25\n",
            "352/352 [==============================] - 4s 10ms/step - loss: 0.7599 - accuracy: 0.7306 - val_loss: 0.7300 - val_accuracy: 0.7518\n",
            "Epoch 8/25\n",
            "352/352 [==============================] - 4s 10ms/step - loss: 0.7106 - accuracy: 0.7516 - val_loss: 0.6866 - val_accuracy: 0.7654\n",
            "Epoch 9/25\n",
            "352/352 [==============================] - 4s 10ms/step - loss: 0.6772 - accuracy: 0.7617 - val_loss: 0.6826 - val_accuracy: 0.7712\n",
            "Epoch 10/25\n",
            "352/352 [==============================] - 4s 10ms/step - loss: 0.6418 - accuracy: 0.7722 - val_loss: 0.6823 - val_accuracy: 0.7750\n",
            "Epoch 11/25\n",
            "352/352 [==============================] - 4s 10ms/step - loss: 0.6067 - accuracy: 0.7829 - val_loss: 0.6686 - val_accuracy: 0.7692\n",
            "Epoch 12/25\n",
            "352/352 [==============================] - 4s 10ms/step - loss: 0.5907 - accuracy: 0.7915 - val_loss: 0.6609 - val_accuracy: 0.7782\n",
            "Epoch 13/25\n",
            "352/352 [==============================] - 3s 10ms/step - loss: 0.5513 - accuracy: 0.8011 - val_loss: 0.6314 - val_accuracy: 0.7892\n",
            "Epoch 14/25\n",
            "352/352 [==============================] - 3s 10ms/step - loss: 0.5294 - accuracy: 0.8100 - val_loss: 0.6520 - val_accuracy: 0.7802\n",
            "Epoch 15/25\n",
            "352/352 [==============================] - 3s 10ms/step - loss: 0.5034 - accuracy: 0.8240 - val_loss: 0.6434 - val_accuracy: 0.7808\n",
            "Epoch 16/25\n",
            "352/352 [==============================] - 4s 10ms/step - loss: 0.4891 - accuracy: 0.8243 - val_loss: 0.6225 - val_accuracy: 0.7896\n",
            "Epoch 17/25\n",
            "352/352 [==============================] - 4s 10ms/step - loss: 0.4776 - accuracy: 0.8276 - val_loss: 0.6411 - val_accuracy: 0.7854\n",
            "Epoch 18/25\n",
            "352/352 [==============================] - 4s 10ms/step - loss: 0.4558 - accuracy: 0.8370 - val_loss: 0.6377 - val_accuracy: 0.7914\n",
            "Epoch 19/25\n",
            "352/352 [==============================] - 3s 10ms/step - loss: 0.4377 - accuracy: 0.8430 - val_loss: 0.6373 - val_accuracy: 0.7852\n",
            "Epoch 20/25\n",
            "352/352 [==============================] - 3s 10ms/step - loss: 0.4227 - accuracy: 0.8495 - val_loss: 0.6386 - val_accuracy: 0.7948\n",
            "Epoch 21/25\n",
            "352/352 [==============================] - 4s 10ms/step - loss: 0.4115 - accuracy: 0.8521 - val_loss: 0.6535 - val_accuracy: 0.7866\n",
            "Epoch 22/25\n",
            "352/352 [==============================] - 4s 10ms/step - loss: 0.3992 - accuracy: 0.8573 - val_loss: 0.6464 - val_accuracy: 0.7906\n",
            "Epoch 23/25\n",
            "352/352 [==============================] - 4s 10ms/step - loss: 0.3895 - accuracy: 0.8625 - val_loss: 0.6439 - val_accuracy: 0.7944\n",
            "Epoch 24/25\n",
            "352/352 [==============================] - 4s 10ms/step - loss: 0.3850 - accuracy: 0.8646 - val_loss: 0.6565 - val_accuracy: 0.7916\n",
            "Epoch 25/25\n",
            "352/352 [==============================] - 4s 10ms/step - loss: 0.3656 - accuracy: 0.8703 - val_loss: 0.6462 - val_accuracy: 0.7938\n"
          ],
          "name": "stdout"
        }
      ]
    },
    {
      "cell_type": "code",
      "metadata": {
        "id": "5y4AHwlNou5y",
        "colab": {
          "base_uri": "https://localhost:8080/"
        },
        "outputId": "0763028a-6dd0-4674-e558-18a400d84bc7"
      },
      "source": [
        "# Оцениваем качество обучения модели на тестовых данных\n",
        "scores = model.evaluate(X_test, Y_test, verbose=0)\n",
        "print(\"Точность работы на тестовых данных: %.2f%%\" % (scores[1]*100))"
      ],
      "execution_count": 49,
      "outputs": [
        {
          "output_type": "stream",
          "text": [
            "Точность работы на тестовых данных: 78.02%\n"
          ],
          "name": "stdout"
        }
      ]
    },
    {
      "cell_type": "code",
      "metadata": {
        "id": "Z_xxp2UrNJvz",
        "colab": {
          "base_uri": "https://localhost:8080/",
          "height": 279
        },
        "outputId": "9277d372-8b0f-4df0-ffd3-3ad36374e4c2"
      },
      "source": [
        "history_dict = history.history\n",
        "acc_values = history_dict['accuracy']\n",
        "val_acc_values = history_dict['val_accuracy']\n",
        "epochs = range(1, len(acc_values) + 1)\n",
        "plt.plot(epochs, acc_values, 'bo', label='Training acc')\n",
        "plt.plot(epochs, val_acc_values, 'b', label='Validation acc')\n",
        "plt.xlabel('Epochs')\n",
        "plt.ylabel('Accuracy')\n",
        "plt.legend()\n",
        "plt.grid()\n",
        "plt.show()"
      ],
      "execution_count": 50,
      "outputs": [
        {
          "output_type": "display_data",
          "data": {
            "image/png": "[encoded data removed]",
            "text/plain": [
              "<Figure size 432x288 with 1 Axes>"
            ]
          },
          "metadata": {
            "tags": [],
            "needs_background": "light"
          }
        }
      ]
    },
    {
      "cell_type": "code",
      "metadata": {
        "id": "Hig0d3VOBplC",
        "colab": {
          "base_uri": "https://localhost:8080/",
          "height": 266
        },
        "outputId": "329b6ee5-4ffe-469d-a9d1-8752ab51ae0e"
      },
      "source": [
        "index=11\n",
        "plt.imshow(X_test[index])\n",
        "plt.show()"
      ],
      "execution_count": 51,
      "outputs": [
        {
          "output_type": "display_data",
          "data": {
            "image/png": "[encoded data removed]",
            "text/plain": [
              "<Figure size 432x288 with 1 Axes>"
            ]
          },
          "metadata": {
            "tags": [],
            "needs_background": "light"
          }
        }
      ]
    },
    {
      "cell_type": "code",
      "metadata": {
        "id": "3esNvLN3YmwM"
      },
      "source": [
        "x = X_test[index]\n",
        "x = np.expand_dims(x, axis=0)"
      ],
      "execution_count": 52,
      "outputs": []
    },
    {
      "cell_type": "code",
      "metadata": {
        "id": "QTdXEhQ3X13R"
      },
      "source": [
        "prediction = model.predict(x)"
      ],
      "execution_count": 53,
      "outputs": []
    },
    {
      "cell_type": "code",
      "metadata": {
        "id": "ynzKYg0aS-3M",
        "colab": {
          "base_uri": "https://localhost:8080/"
        },
        "outputId": "6dadab92-05aa-4efd-8ae9-a772563ae30e"
      },
      "source": [
        "print(prediction)"
      ],
      "execution_count": 54,
      "outputs": [
        {
          "output_type": "stream",
          "text": [
            "[[1.7015606e-11 9.3794987e-04 1.5676325e-14 1.6831599e-13 1.1607262e-19\n",
            "  1.2493000e-16 8.7592494e-20 1.1125851e-14 5.4748950e-10 9.9906212e-01]]\n"
          ],
          "name": "stdout"
        }
      ]
    },
    {
      "cell_type": "markdown",
      "metadata": {
        "id": "oeeqy0cjX7j6"
      },
      "source": [
        "**Запускаем распознавание**"
      ]
    },
    {
      "cell_type": "code",
      "metadata": {
        "id": "cVIxQljlX-LZ",
        "colab": {
          "base_uri": "https://localhost:8080/"
        },
        "outputId": "f8ae9395-1795-4fa8-9806-1d9bc258dc6c"
      },
      "source": [
        "prediction = np.argmax(prediction)\n",
        "print(classes[prediction])"
      ],
      "execution_count": 55,
      "outputs": [
        {
          "output_type": "stream",
          "text": [
            "грузовик\n"
          ],
          "name": "stdout"
        }
      ]
    },
    {
      "cell_type": "code",
      "metadata": {
        "id": "krPNrEmsTEDw",
        "colab": {
          "base_uri": "https://localhost:8080/"
        },
        "outputId": "3583fab5-4779-49e7-9517-8a2db9aead84"
      },
      "source": [
        "print(classes[y_test[index][0]])"
      ],
      "execution_count": 56,
      "outputs": [
        {
          "output_type": "stream",
          "text": [
            "грузовик\n"
          ],
          "name": "stdout"
        }
      ]
    },
    {
      "cell_type": "code",
      "metadata": {
        "colab": {
          "base_uri": "https://localhost:8080/"
        },
        "id": "LjcbAzaU6CpR",
        "outputId": "ce6182b0-296d-4aab-a2d5-af6881e0e68f"
      },
      "source": [
        "outputs = [layer.output for layer in model.layers]          # all layer outputs\n",
        "outputs"
      ],
      "execution_count": 68,
      "outputs": [
        {
          "output_type": "execute_result",
          "data": {
            "text/plain": [
              "[<KerasTensor: shape=(None, 32, 32, 32) dtype=float32 (created by layer 'conv2d_3')>,\n",
              " <KerasTensor: shape=(None, 32, 32, 32) dtype=float32 (created by layer 'conv2d_4')>,\n",
              " <KerasTensor: shape=(None, 16, 16, 32) dtype=float32 (created by layer 'max_pooling2d_2')>,\n",
              " <KerasTensor: shape=(None, 16, 16, 32) dtype=float32 (created by layer 'dropout_3')>,\n",
              " <KerasTensor: shape=(None, 16, 16, 64) dtype=float32 (created by layer 'conv2d_5')>,\n",
              " <KerasTensor: shape=(None, 8, 8, 64) dtype=float32 (created by layer 'max_pooling2d_3')>,\n",
              " <KerasTensor: shape=(None, 8, 8, 64) dtype=float32 (created by layer 'dropout_4')>,\n",
              " <KerasTensor: shape=(None, 4096) dtype=float32 (created by layer 'flatten_1')>,\n",
              " <KerasTensor: shape=(None, 512) dtype=float32 (created by layer 'dense_2')>,\n",
              " <KerasTensor: shape=(None, 512) dtype=float32 (created by layer 'dropout_5')>,\n",
              " <KerasTensor: shape=(None, 10) dtype=float32 (created by layer 'dense_3')>]"
            ]
          },
          "metadata": {
            "tags": []
          },
          "execution_count": 68
        }
      ]
    },
    {
      "cell_type": "code",
      "metadata": {
        "id": "8bRDDq-rBt1L"
      },
      "source": [
        "from keras.models import Model\n",
        "\n",
        "layer_name = 'conv2d_3'\n",
        "intermediate_layer_model = Model(inputs=model.input,\n",
        "                                 outputs=model.get_layer(layer_name).output)\n",
        "intermediate_output = intermediate_layer_model.predict(X_test)"
      ],
      "execution_count": 86,
      "outputs": []
    },
    {
      "cell_type": "code",
      "metadata": {
        "id": "gO8tLMw0CyLa",
        "outputId": "ccf5f62c-d82e-4797-e022-712e7cffc87d",
        "colab": {
          "base_uri": "https://localhost:8080/"
        }
      },
      "source": [
        "intermediate_output"
      ],
      "execution_count": 87,
      "outputs": [
        {
          "output_type": "execute_result",
          "data": {
            "text/plain": [
              "array([[[[0.00000000e+00, 1.50238909e-03, 7.90795162e-02, ...,\n",
              "          0.00000000e+00, 7.46879280e-02, 1.51019990e-02],\n",
              "         [0.00000000e+00, 0.00000000e+00, 2.60020196e-01, ...,\n",
              "          0.00000000e+00, 1.53327405e-01, 0.00000000e+00],\n",
              "         [0.00000000e+00, 0.00000000e+00, 2.65268475e-01, ...,\n",
              "          0.00000000e+00, 1.60645112e-01, 0.00000000e+00],\n",
              "         ...,\n",
              "         [0.00000000e+00, 0.00000000e+00, 2.41744235e-01, ...,\n",
              "          0.00000000e+00, 1.57397181e-01, 0.00000000e+00],\n",
              "         [0.00000000e+00, 0.00000000e+00, 2.25755811e-01, ...,\n",
              "          0.00000000e+00, 1.55713901e-01, 0.00000000e+00],\n",
              "         [0.00000000e+00, 0.00000000e+00, 2.10853368e-01, ...,\n",
              "          0.00000000e+00, 1.65132135e-01, 0.00000000e+00]],\n",
              "\n",
              "        [[1.13607809e-01, 0.00000000e+00, 2.12530583e-01, ...,\n",
              "          8.06723684e-02, 0.00000000e+00, 1.02748945e-01],\n",
              "         [4.04750519e-02, 0.00000000e+00, 3.16301197e-01, ...,\n",
              "          2.83023566e-02, 0.00000000e+00, 7.69410655e-02],\n",
              "         [3.76016945e-02, 0.00000000e+00, 3.29075366e-01, ...,\n",
              "          5.52099943e-03, 0.00000000e+00, 9.31409299e-02],\n",
              "         ...,\n",
              "         [3.51105109e-02, 0.00000000e+00, 2.86087990e-01, ...,\n",
              "          1.21834800e-02, 0.00000000e+00, 3.74136344e-02],\n",
              "         [4.01777625e-02, 0.00000000e+00, 2.61286139e-01, ...,\n",
              "          0.00000000e+00, 0.00000000e+00, 3.15907151e-02],\n",
              "         [0.00000000e+00, 0.00000000e+00, 1.97851330e-01, ...,\n",
              "          0.00000000e+00, 4.80688475e-02, 0.00000000e+00]],\n",
              "\n",
              "        [[1.03699178e-01, 0.00000000e+00, 2.17055917e-01, ...,\n",
              "          8.71596485e-02, 0.00000000e+00, 1.01168230e-01],\n",
              "         [3.72221135e-02, 0.00000000e+00, 3.19218636e-01, ...,\n",
              "          4.38480526e-02, 0.00000000e+00, 6.35477304e-02],\n",
              "         [5.05915359e-02, 0.00000000e+00, 3.41688961e-01, ...,\n",
              "          2.46671438e-02, 0.00000000e+00, 9.01738256e-02],\n",
              "         ...,\n",
              "         [3.41951065e-02, 0.00000000e+00, 2.79101521e-01, ...,\n",
              "          1.05285645e-02, 0.00000000e+00, 3.11265066e-02],\n",
              "         [4.13819067e-02, 0.00000000e+00, 2.64144421e-01, ...,\n",
              "          8.26515257e-03, 0.00000000e+00, 1.33080371e-02],\n",
              "         [0.00000000e+00, 0.00000000e+00, 2.05126956e-01, ...,\n",
              "          0.00000000e+00, 5.10041751e-02, 0.00000000e+00]],\n",
              "\n",
              "        ...,\n",
              "\n",
              "        [[2.14542642e-01, 1.36788741e-01, 0.00000000e+00, ...,\n",
              "          0.00000000e+00, 1.35255247e-01, 0.00000000e+00],\n",
              "         [4.31184806e-02, 1.51727423e-01, 0.00000000e+00, ...,\n",
              "          0.00000000e+00, 1.01451278e-02, 0.00000000e+00],\n",
              "         [7.18276873e-02, 1.55102879e-01, 0.00000000e+00, ...,\n",
              "          0.00000000e+00, 3.39616388e-02, 7.82021880e-03],\n",
              "         ...,\n",
              "         [0.00000000e+00, 1.22069210e-01, 0.00000000e+00, ...,\n",
              "          0.00000000e+00, 4.39544469e-02, 0.00000000e+00],\n",
              "         [1.01876020e-01, 1.80026755e-01, 0.00000000e+00, ...,\n",
              "          0.00000000e+00, 0.00000000e+00, 4.02808934e-02],\n",
              "         [0.00000000e+00, 0.00000000e+00, 0.00000000e+00, ...,\n",
              "          0.00000000e+00, 5.99348322e-02, 0.00000000e+00]],\n",
              "\n",
              "        [[2.37401217e-01, 1.12222478e-01, 0.00000000e+00, ...,\n",
              "          0.00000000e+00, 1.27907440e-01, 0.00000000e+00],\n",
              "         [2.01987084e-02, 1.62828609e-01, 0.00000000e+00, ...,\n",
              "          0.00000000e+00, 0.00000000e+00, 0.00000000e+00],\n",
              "         [8.35459381e-02, 1.58591881e-01, 0.00000000e+00, ...,\n",
              "          0.00000000e+00, 2.41971314e-02, 1.18995905e-02],\n",
              "         ...,\n",
              "         [0.00000000e+00, 1.09333664e-01, 0.00000000e+00, ...,\n",
              "          0.00000000e+00, 2.07712650e-02, 9.81308147e-03],\n",
              "         [3.84925641e-02, 1.97488591e-01, 0.00000000e+00, ...,\n",
              "          0.00000000e+00, 3.07910144e-03, 0.00000000e+00],\n",
              "         [0.00000000e+00, 0.00000000e+00, 0.00000000e+00, ...,\n",
              "          0.00000000e+00, 4.74802330e-02, 0.00000000e+00]],\n",
              "\n",
              "        [[1.19095862e-01, 0.00000000e+00, 0.00000000e+00, ...,\n",
              "          0.00000000e+00, 0.00000000e+00, 6.71643764e-02],\n",
              "         [0.00000000e+00, 0.00000000e+00, 0.00000000e+00, ...,\n",
              "          0.00000000e+00, 0.00000000e+00, 1.36067018e-01],\n",
              "         [0.00000000e+00, 0.00000000e+00, 0.00000000e+00, ...,\n",
              "          0.00000000e+00, 0.00000000e+00, 1.41630381e-01],\n",
              "         ...,\n",
              "         [0.00000000e+00, 0.00000000e+00, 0.00000000e+00, ...,\n",
              "          0.00000000e+00, 0.00000000e+00, 1.80077553e-01],\n",
              "         [0.00000000e+00, 0.00000000e+00, 0.00000000e+00, ...,\n",
              "          0.00000000e+00, 0.00000000e+00, 9.14028734e-02],\n",
              "         [0.00000000e+00, 0.00000000e+00, 0.00000000e+00, ...,\n",
              "          0.00000000e+00, 0.00000000e+00, 0.00000000e+00]]],\n",
              "\n",
              "\n",
              "       [[[0.00000000e+00, 1.47995442e-01, 0.00000000e+00, ...,\n",
              "          0.00000000e+00, 1.60744220e-01, 0.00000000e+00],\n",
              "         [0.00000000e+00, 0.00000000e+00, 4.24114801e-02, ...,\n",
              "          0.00000000e+00, 1.96168363e-01, 0.00000000e+00],\n",
              "         [0.00000000e+00, 0.00000000e+00, 3.87143083e-02, ...,\n",
              "          0.00000000e+00, 1.96599320e-01, 0.00000000e+00],\n",
              "         ...,\n",
              "         [0.00000000e+00, 0.00000000e+00, 3.90351452e-02, ...,\n",
              "          0.00000000e+00, 1.96068361e-01, 0.00000000e+00],\n",
              "         [0.00000000e+00, 0.00000000e+00, 4.03417349e-02, ...,\n",
              "          0.00000000e+00, 1.96050793e-01, 0.00000000e+00],\n",
              "         [0.00000000e+00, 0.00000000e+00, 1.31020337e-01, ...,\n",
              "          0.00000000e+00, 1.56713873e-01, 0.00000000e+00]],\n",
              "\n",
              "        [[3.49143565e-01, 1.50383547e-01, 2.33826749e-02, ...,\n",
              "          0.00000000e+00, 0.00000000e+00, 9.12813246e-02],\n",
              "         [5.61199822e-02, 1.30240947e-01, 2.31508017e-02, ...,\n",
              "          0.00000000e+00, 0.00000000e+00, 7.59003311e-03],\n",
              "         [6.14477508e-02, 1.28317207e-01, 2.46203132e-02, ...,\n",
              "          0.00000000e+00, 0.00000000e+00, 7.28049129e-03],\n",
              "         ...,\n",
              "         [6.19079471e-02, 1.29854620e-01, 2.37656869e-02, ...,\n",
              "          0.00000000e+00, 0.00000000e+00, 9.49960575e-03],\n",
              "         [5.88423200e-02, 1.28163159e-01, 2.38036066e-02, ...,\n",
              "          0.00000000e+00, 0.00000000e+00, 6.41663373e-03],\n",
              "         [0.00000000e+00, 0.00000000e+00, 3.61258052e-02, ...,\n",
              "          0.00000000e+00, 0.00000000e+00, 0.00000000e+00]],\n",
              "\n",
              "        [[3.59267831e-01, 1.55521646e-01, 2.57338136e-02, ...,\n",
              "          0.00000000e+00, 0.00000000e+00, 9.50938314e-02],\n",
              "         [6.46071956e-02, 1.35650828e-01, 2.16180868e-02, ...,\n",
              "          0.00000000e+00, 0.00000000e+00, 1.78021304e-02],\n",
              "         [6.83515742e-02, 1.35944456e-01, 2.16514803e-02, ...,\n",
              "          0.00000000e+00, 0.00000000e+00, 1.88871436e-02],\n",
              "         ...,\n",
              "         [6.79073483e-02, 1.34720206e-01, 2.25431956e-02, ...,\n",
              "          0.00000000e+00, 0.00000000e+00, 2.03733481e-02],\n",
              "         [6.44945875e-02, 1.34044796e-01, 2.24669613e-02, ...,\n",
              "          0.00000000e+00, 0.00000000e+00, 1.79463290e-02],\n",
              "         [0.00000000e+00, 0.00000000e+00, 3.30831781e-02, ...,\n",
              "          0.00000000e+00, 0.00000000e+00, 0.00000000e+00]],\n",
              "\n",
              "        ...,\n",
              "\n",
              "        [[9.70211402e-02, 0.00000000e+00, 1.39067722e-02, ...,\n",
              "          0.00000000e+00, 3.38711590e-02, 0.00000000e+00],\n",
              "         [0.00000000e+00, 0.00000000e+00, 1.22301877e-02, ...,\n",
              "          0.00000000e+00, 6.29964471e-03, 0.00000000e+00],\n",
              "         [0.00000000e+00, 2.85446122e-02, 0.00000000e+00, ...,\n",
              "          0.00000000e+00, 4.89020571e-02, 1.53858140e-02],\n",
              "         ...,\n",
              "         [1.20164841e-01, 1.39330909e-01, 0.00000000e+00, ...,\n",
              "          0.00000000e+00, 0.00000000e+00, 1.11136138e-02],\n",
              "         [1.10131666e-01, 1.37229919e-01, 0.00000000e+00, ...,\n",
              "          0.00000000e+00, 0.00000000e+00, 0.00000000e+00],\n",
              "         [0.00000000e+00, 0.00000000e+00, 7.16046989e-03, ...,\n",
              "          0.00000000e+00, 0.00000000e+00, 0.00000000e+00]],\n",
              "\n",
              "        [[9.65075493e-02, 2.04372220e-03, 4.11575101e-03, ...,\n",
              "          0.00000000e+00, 4.99561615e-02, 0.00000000e+00],\n",
              "         [0.00000000e+00, 1.23848589e-02, 0.00000000e+00, ...,\n",
              "          0.00000000e+00, 0.00000000e+00, 0.00000000e+00],\n",
              "         [1.91451628e-02, 2.58265845e-02, 1.23721194e-02, ...,\n",
              "          0.00000000e+00, 6.11345768e-02, 0.00000000e+00],\n",
              "         ...,\n",
              "         [1.02633327e-01, 1.24497876e-01, 0.00000000e+00, ...,\n",
              "          0.00000000e+00, 0.00000000e+00, 2.72027459e-02],\n",
              "         [8.30073208e-02, 1.26509100e-01, 0.00000000e+00, ...,\n",
              "          0.00000000e+00, 0.00000000e+00, 9.35181603e-03],\n",
              "         [0.00000000e+00, 0.00000000e+00, 6.79044612e-03, ...,\n",
              "          0.00000000e+00, 0.00000000e+00, 0.00000000e+00]],\n",
              "\n",
              "        [[0.00000000e+00, 0.00000000e+00, 5.72399758e-02, ...,\n",
              "          0.00000000e+00, 0.00000000e+00, 0.00000000e+00],\n",
              "         [0.00000000e+00, 0.00000000e+00, 6.35509640e-02, ...,\n",
              "          0.00000000e+00, 0.00000000e+00, 8.37089568e-02],\n",
              "         [0.00000000e+00, 0.00000000e+00, 7.36322552e-02, ...,\n",
              "          0.00000000e+00, 0.00000000e+00, 4.43078019e-02],\n",
              "         ...,\n",
              "         [0.00000000e+00, 0.00000000e+00, 1.36491120e-01, ...,\n",
              "          0.00000000e+00, 0.00000000e+00, 2.60782659e-01],\n",
              "         [0.00000000e+00, 0.00000000e+00, 1.37200043e-01, ...,\n",
              "          0.00000000e+00, 0.00000000e+00, 2.71513760e-01],\n",
              "         [0.00000000e+00, 0.00000000e+00, 1.39242247e-01, ...,\n",
              "          0.00000000e+00, 0.00000000e+00, 0.00000000e+00]]],\n",
              "\n",
              "\n",
              "       [[[0.00000000e+00, 1.62760302e-01, 0.00000000e+00, ...,\n",
              "          0.00000000e+00, 1.69870600e-01, 0.00000000e+00],\n",
              "         [0.00000000e+00, 2.98809260e-04, 0.00000000e+00, ...,\n",
              "          0.00000000e+00, 1.58822045e-01, 0.00000000e+00],\n",
              "         [0.00000000e+00, 0.00000000e+00, 0.00000000e+00, ...,\n",
              "          0.00000000e+00, 1.53121844e-01, 0.00000000e+00],\n",
              "         ...,\n",
              "         [0.00000000e+00, 0.00000000e+00, 2.87226290e-02, ...,\n",
              "          0.00000000e+00, 1.94379240e-01, 0.00000000e+00],\n",
              "         [0.00000000e+00, 0.00000000e+00, 1.71501450e-02, ...,\n",
              "          0.00000000e+00, 2.00202510e-01, 0.00000000e+00],\n",
              "         [0.00000000e+00, 0.00000000e+00, 1.19443357e-01, ...,\n",
              "          0.00000000e+00, 1.60841674e-01, 0.00000000e+00]],\n",
              "\n",
              "        [[3.32536936e-01, 1.75536186e-01, 0.00000000e+00, ...,\n",
              "          0.00000000e+00, 8.11745226e-03, 5.15717603e-02],\n",
              "         [1.38250422e-02, 1.31665200e-01, 0.00000000e+00, ...,\n",
              "          0.00000000e+00, 0.00000000e+00, 0.00000000e+00],\n",
              "         [1.38222110e-02, 1.30773053e-01, 0.00000000e+00, ...,\n",
              "          0.00000000e+00, 0.00000000e+00, 0.00000000e+00],\n",
              "         ...,\n",
              "         [7.03858286e-02, 1.49851322e-01, 5.94994519e-03, ...,\n",
              "          0.00000000e+00, 0.00000000e+00, 5.44537716e-02],\n",
              "         [7.85600916e-02, 1.47184923e-01, 8.21940694e-03, ...,\n",
              "          0.00000000e+00, 0.00000000e+00, 1.28739253e-02],\n",
              "         [0.00000000e+00, 0.00000000e+00, 3.20422985e-02, ...,\n",
              "          0.00000000e+00, 0.00000000e+00, 0.00000000e+00]],\n",
              "\n",
              "        [[3.51409078e-01, 1.73053235e-01, 0.00000000e+00, ...,\n",
              "          0.00000000e+00, 0.00000000e+00, 6.18228652e-02],\n",
              "         [2.38289107e-02, 1.24416724e-01, 0.00000000e+00, ...,\n",
              "          0.00000000e+00, 0.00000000e+00, 0.00000000e+00],\n",
              "         [2.64528021e-03, 1.20018944e-01, 0.00000000e+00, ...,\n",
              "          0.00000000e+00, 0.00000000e+00, 0.00000000e+00],\n",
              "         ...,\n",
              "         [8.47417042e-02, 1.47498548e-01, 2.14023218e-02, ...,\n",
              "          0.00000000e+00, 0.00000000e+00, 6.97058737e-02],\n",
              "         [7.69444853e-02, 1.43361166e-01, 1.93488523e-02, ...,\n",
              "          0.00000000e+00, 0.00000000e+00, 2.13784426e-02],\n",
              "         [0.00000000e+00, 0.00000000e+00, 3.87852751e-02, ...,\n",
              "          0.00000000e+00, 0.00000000e+00, 0.00000000e+00]],\n",
              "\n",
              "        ...,\n",
              "\n",
              "        [[1.02722108e-01, 1.89874172e-02, 0.00000000e+00, ...,\n",
              "          0.00000000e+00, 7.19618797e-02, 5.36944233e-02],\n",
              "         [3.73531207e-02, 2.72275247e-02, 0.00000000e+00, ...,\n",
              "          0.00000000e+00, 3.56816426e-02, 4.57371362e-02],\n",
              "         [4.87020910e-02, 3.65489274e-02, 0.00000000e+00, ...,\n",
              "          0.00000000e+00, 4.26708013e-02, 4.90907393e-02],\n",
              "         ...,\n",
              "         [0.00000000e+00, 0.00000000e+00, 6.71241898e-04, ...,\n",
              "          0.00000000e+00, 3.35652195e-02, 0.00000000e+00],\n",
              "         [0.00000000e+00, 0.00000000e+00, 8.45117588e-03, ...,\n",
              "          0.00000000e+00, 2.46026963e-02, 7.43131489e-02],\n",
              "         [6.85312971e-03, 0.00000000e+00, 0.00000000e+00, ...,\n",
              "          0.00000000e+00, 5.88282123e-02, 8.74542296e-02]],\n",
              "\n",
              "        [[1.22944340e-01, 3.86953726e-02, 0.00000000e+00, ...,\n",
              "          0.00000000e+00, 7.69540742e-02, 5.83779588e-02],\n",
              "         [5.73258400e-02, 4.55261767e-02, 0.00000000e+00, ...,\n",
              "          0.00000000e+00, 5.43209724e-02, 4.16131243e-02],\n",
              "         [6.58804253e-02, 5.01345955e-02, 0.00000000e+00, ...,\n",
              "          0.00000000e+00, 5.30750863e-02, 4.07645777e-02],\n",
              "         ...,\n",
              "         [0.00000000e+00, 0.00000000e+00, 1.44891404e-02, ...,\n",
              "          0.00000000e+00, 3.69748250e-02, 3.48620638e-02],\n",
              "         [0.00000000e+00, 3.90425976e-03, 0.00000000e+00, ...,\n",
              "          0.00000000e+00, 4.16962691e-02, 1.08885244e-01],\n",
              "         [3.22932117e-02, 0.00000000e+00, 0.00000000e+00, ...,\n",
              "          0.00000000e+00, 8.09993744e-02, 5.08940518e-02]],\n",
              "\n",
              "        [[5.74935377e-02, 0.00000000e+00, 0.00000000e+00, ...,\n",
              "          0.00000000e+00, 3.93654704e-02, 5.93457632e-02],\n",
              "         [0.00000000e+00, 0.00000000e+00, 1.59902452e-03, ...,\n",
              "          0.00000000e+00, 0.00000000e+00, 7.63752013e-02],\n",
              "         [0.00000000e+00, 0.00000000e+00, 0.00000000e+00, ...,\n",
              "          0.00000000e+00, 0.00000000e+00, 8.04925412e-02],\n",
              "         ...,\n",
              "         [0.00000000e+00, 0.00000000e+00, 3.16598546e-03, ...,\n",
              "          0.00000000e+00, 2.15680376e-02, 1.09845728e-01],\n",
              "         [2.22082529e-02, 0.00000000e+00, 0.00000000e+00, ...,\n",
              "          0.00000000e+00, 5.52771203e-02, 9.28269178e-02],\n",
              "         [2.25948244e-02, 0.00000000e+00, 1.04962345e-02, ...,\n",
              "          0.00000000e+00, 8.05203319e-02, 4.33676764e-02]]],\n",
              "\n",
              "\n",
              "       ...,\n",
              "\n",
              "\n",
              "       [[[3.15015614e-02, 0.00000000e+00, 7.43261864e-03, ...,\n",
              "          0.00000000e+00, 9.31531191e-02, 4.57988605e-02],\n",
              "         [3.10706235e-02, 0.00000000e+00, 2.37324275e-02, ...,\n",
              "          0.00000000e+00, 1.02817915e-01, 1.81870908e-03],\n",
              "         [3.56654748e-02, 0.00000000e+00, 1.90110467e-02, ...,\n",
              "          0.00000000e+00, 1.00192398e-01, 4.84740362e-03],\n",
              "         ...,\n",
              "         [3.60344350e-02, 0.00000000e+00, 1.64398327e-02, ...,\n",
              "          0.00000000e+00, 9.28592533e-02, 2.56679021e-02],\n",
              "         [3.15426886e-02, 0.00000000e+00, 1.43990340e-02, ...,\n",
              "          0.00000000e+00, 9.34906676e-02, 2.87418980e-02],\n",
              "         [2.32042763e-02, 0.00000000e+00, 1.91932172e-02, ...,\n",
              "          0.00000000e+00, 9.20424312e-02, 0.00000000e+00]],\n",
              "\n",
              "        [[5.71795776e-02, 0.00000000e+00, 2.33394094e-02, ...,\n",
              "          0.00000000e+00, 7.14030564e-02, 6.23923801e-02],\n",
              "         [4.20985185e-02, 0.00000000e+00, 2.66926214e-02, ...,\n",
              "          0.00000000e+00, 6.58773407e-02, 4.89253029e-02],\n",
              "         [4.36384119e-02, 0.00000000e+00, 2.41851360e-02, ...,\n",
              "          0.00000000e+00, 6.54546469e-02, 4.41369638e-02],\n",
              "         ...,\n",
              "         [4.70365025e-02, 0.00000000e+00, 1.53445313e-02, ...,\n",
              "          0.00000000e+00, 7.15608224e-02, 5.28472476e-02],\n",
              "         [5.48498556e-02, 0.00000000e+00, 1.57138146e-02, ...,\n",
              "          0.00000000e+00, 7.35121295e-02, 5.69465831e-02],\n",
              "         [3.09598409e-02, 0.00000000e+00, 1.27035603e-02, ...,\n",
              "          0.00000000e+00, 8.53822306e-02, 2.69638654e-02]],\n",
              "\n",
              "        [[6.04551136e-02, 0.00000000e+00, 2.53550783e-02, ...,\n",
              "          0.00000000e+00, 6.89701810e-02, 6.43676966e-02],\n",
              "         [4.32766005e-02, 0.00000000e+00, 3.07984948e-02, ...,\n",
              "          0.00000000e+00, 6.22167699e-02, 5.20953797e-02],\n",
              "         [4.48143072e-02, 0.00000000e+00, 2.93504968e-02, ...,\n",
              "          0.00000000e+00, 6.12705871e-02, 4.75502908e-02],\n",
              "         ...,\n",
              "         [4.23476696e-02, 0.00000000e+00, 1.34887518e-02, ...,\n",
              "          0.00000000e+00, 7.52500370e-02, 5.02117276e-02],\n",
              "         [4.83083390e-02, 0.00000000e+00, 1.53085683e-02, ...,\n",
              "          0.00000000e+00, 7.55146891e-02, 4.87475209e-02],\n",
              "         [3.23051028e-02, 0.00000000e+00, 1.42841935e-02, ...,\n",
              "          0.00000000e+00, 8.79371613e-02, 1.31545067e-02]],\n",
              "\n",
              "        ...,\n",
              "\n",
              "        [[6.65196776e-02, 0.00000000e+00, 4.51467223e-02, ...,\n",
              "          0.00000000e+00, 4.80303019e-02, 7.08622783e-02],\n",
              "         [4.49017100e-02, 0.00000000e+00, 6.05602525e-02, ...,\n",
              "          0.00000000e+00, 3.80444229e-02, 5.38551845e-02],\n",
              "         [4.31859754e-02, 0.00000000e+00, 6.04531653e-02, ...,\n",
              "          0.00000000e+00, 3.67467701e-02, 5.32284565e-02],\n",
              "         ...,\n",
              "         [4.83083501e-02, 3.36392224e-02, 0.00000000e+00, ...,\n",
              "          0.00000000e+00, 8.36524665e-02, 9.00245160e-02],\n",
              "         [2.42920816e-02, 2.24043950e-02, 0.00000000e+00, ...,\n",
              "          0.00000000e+00, 8.93394276e-02, 5.52935712e-02],\n",
              "         [0.00000000e+00, 0.00000000e+00, 0.00000000e+00, ...,\n",
              "          0.00000000e+00, 8.34526718e-02, 0.00000000e+00]],\n",
              "\n",
              "        [[6.32242784e-02, 0.00000000e+00, 4.57052961e-02, ...,\n",
              "          0.00000000e+00, 4.58210260e-02, 7.01343790e-02],\n",
              "         [4.13320251e-02, 0.00000000e+00, 6.24007620e-02, ...,\n",
              "          0.00000000e+00, 3.44832428e-02, 5.63635826e-02],\n",
              "         [4.08139788e-02, 0.00000000e+00, 6.14405982e-02, ...,\n",
              "          0.00000000e+00, 3.40232365e-02, 5.56631722e-02],\n",
              "         ...,\n",
              "         [4.58085947e-02, 2.99122632e-02, 0.00000000e+00, ...,\n",
              "          0.00000000e+00, 8.22212920e-02, 8.75404030e-02],\n",
              "         [2.62446497e-02, 1.73723288e-02, 0.00000000e+00, ...,\n",
              "          0.00000000e+00, 8.60811472e-02, 6.87972084e-02],\n",
              "         [0.00000000e+00, 0.00000000e+00, 0.00000000e+00, ...,\n",
              "          0.00000000e+00, 8.50098580e-02, 0.00000000e+00]],\n",
              "\n",
              "        [[4.13571149e-02, 0.00000000e+00, 5.47199063e-02, ...,\n",
              "          0.00000000e+00, 3.75417098e-02, 6.64156377e-02],\n",
              "         [9.13325697e-03, 0.00000000e+00, 6.62688017e-02, ...,\n",
              "          0.00000000e+00, 0.00000000e+00, 8.84403884e-02],\n",
              "         [4.57184017e-03, 0.00000000e+00, 6.65782690e-02, ...,\n",
              "          0.00000000e+00, 0.00000000e+00, 8.68761390e-02],\n",
              "         ...,\n",
              "         [0.00000000e+00, 0.00000000e+00, 0.00000000e+00, ...,\n",
              "          0.00000000e+00, 9.59061831e-03, 1.20823950e-01],\n",
              "         [0.00000000e+00, 0.00000000e+00, 0.00000000e+00, ...,\n",
              "          0.00000000e+00, 1.41031593e-02, 1.07343197e-01],\n",
              "         [0.00000000e+00, 0.00000000e+00, 9.30411369e-03, ...,\n",
              "          0.00000000e+00, 4.66345586e-02, 3.24387923e-02]]],\n",
              "\n",
              "\n",
              "       [[[1.41867120e-02, 2.78231874e-03, 0.00000000e+00, ...,\n",
              "          0.00000000e+00, 8.39070529e-02, 6.49072230e-03],\n",
              "         [2.86530182e-02, 0.00000000e+00, 3.17326635e-02, ...,\n",
              "          0.00000000e+00, 7.17160776e-02, 0.00000000e+00],\n",
              "         [1.73358992e-03, 3.64861451e-03, 2.15112269e-02, ...,\n",
              "          0.00000000e+00, 1.03671558e-01, 0.00000000e+00],\n",
              "         ...,\n",
              "         [6.28155321e-02, 8.35702419e-02, 0.00000000e+00, ...,\n",
              "          0.00000000e+00, 1.90235242e-01, 0.00000000e+00],\n",
              "         [5.52915782e-02, 9.45702195e-02, 0.00000000e+00, ...,\n",
              "          0.00000000e+00, 1.98974013e-01, 0.00000000e+00],\n",
              "         [0.00000000e+00, 0.00000000e+00, 8.22523050e-03, ...,\n",
              "          0.00000000e+00, 1.58034533e-01, 0.00000000e+00]],\n",
              "\n",
              "        [[9.41000581e-02, 0.00000000e+00, 4.33550309e-03, ...,\n",
              "          0.00000000e+00, 3.62163819e-02, 3.49342935e-02],\n",
              "         [6.06777444e-02, 2.67134756e-02, 2.48841848e-03, ...,\n",
              "          5.82806021e-03, 7.30677694e-03, 5.59580214e-02],\n",
              "         [6.16684742e-02, 5.77442273e-02, 6.71718316e-03, ...,\n",
              "          0.00000000e+00, 6.82940185e-02, 1.04766816e-01],\n",
              "         ...,\n",
              "         [1.23138100e-01, 1.73021764e-01, 0.00000000e+00, ...,\n",
              "          0.00000000e+00, 0.00000000e+00, 0.00000000e+00],\n",
              "         [3.05427872e-02, 6.09306172e-02, 0.00000000e+00, ...,\n",
              "          0.00000000e+00, 5.07856347e-02, 0.00000000e+00],\n",
              "         [0.00000000e+00, 0.00000000e+00, 0.00000000e+00, ...,\n",
              "          0.00000000e+00, 4.32143956e-02, 0.00000000e+00]],\n",
              "\n",
              "        [[8.59036595e-02, 2.80404352e-02, 0.00000000e+00, ...,\n",
              "          0.00000000e+00, 4.35927697e-02, 2.00362317e-02],\n",
              "         [9.44708660e-02, 0.00000000e+00, 9.70195606e-03, ...,\n",
              "          0.00000000e+00, 1.73127502e-02, 4.24075276e-02],\n",
              "         [1.24588057e-01, 0.00000000e+00, 9.40125529e-03, ...,\n",
              "          0.00000000e+00, 0.00000000e+00, 1.88103840e-01],\n",
              "         ...,\n",
              "         [8.18185061e-02, 1.38727903e-01, 0.00000000e+00, ...,\n",
              "          0.00000000e+00, 0.00000000e+00, 0.00000000e+00],\n",
              "         [0.00000000e+00, 2.80098766e-02, 0.00000000e+00, ...,\n",
              "          0.00000000e+00, 0.00000000e+00, 0.00000000e+00],\n",
              "         [0.00000000e+00, 0.00000000e+00, 0.00000000e+00, ...,\n",
              "          0.00000000e+00, 0.00000000e+00, 0.00000000e+00]],\n",
              "\n",
              "        ...,\n",
              "\n",
              "        [[2.11518481e-01, 7.75538534e-02, 5.44378161e-03, ...,\n",
              "          8.92595947e-03, 0.00000000e+00, 6.02488220e-03],\n",
              "         [7.96185434e-02, 5.07997647e-02, 3.50724682e-02, ...,\n",
              "          0.00000000e+00, 0.00000000e+00, 0.00000000e+00],\n",
              "         [6.92229345e-02, 5.34130484e-02, 2.99820602e-02, ...,\n",
              "          0.00000000e+00, 0.00000000e+00, 0.00000000e+00],\n",
              "         ...,\n",
              "         [7.67093748e-02, 5.54275364e-02, 2.50253454e-02, ...,\n",
              "          0.00000000e+00, 0.00000000e+00, 0.00000000e+00],\n",
              "         [6.96129277e-02, 4.68328260e-02, 2.93955356e-02, ...,\n",
              "          0.00000000e+00, 0.00000000e+00, 0.00000000e+00],\n",
              "         [0.00000000e+00, 0.00000000e+00, 3.89492773e-02, ...,\n",
              "          0.00000000e+00, 0.00000000e+00, 0.00000000e+00]],\n",
              "\n",
              "        [[1.97402030e-01, 6.12151250e-02, 1.33051835e-02, ...,\n",
              "          7.21062720e-03, 0.00000000e+00, 1.00488961e-03],\n",
              "         [6.70264512e-02, 3.77546139e-02, 4.73376662e-02, ...,\n",
              "          0.00000000e+00, 0.00000000e+00, 0.00000000e+00],\n",
              "         [6.13117516e-02, 4.62730713e-02, 4.20622975e-02, ...,\n",
              "          0.00000000e+00, 0.00000000e+00, 0.00000000e+00],\n",
              "         ...,\n",
              "         [5.82218841e-02, 4.40096632e-02, 3.10295708e-02, ...,\n",
              "          0.00000000e+00, 0.00000000e+00, 0.00000000e+00],\n",
              "         [4.96368147e-02, 3.93437408e-02, 3.29643637e-02, ...,\n",
              "          0.00000000e+00, 0.00000000e+00, 0.00000000e+00],\n",
              "         [0.00000000e+00, 0.00000000e+00, 3.57902385e-02, ...,\n",
              "          0.00000000e+00, 0.00000000e+00, 0.00000000e+00]],\n",
              "\n",
              "        [[7.58797377e-02, 0.00000000e+00, 7.38241673e-02, ...,\n",
              "          0.00000000e+00, 0.00000000e+00, 3.42446938e-02],\n",
              "         [0.00000000e+00, 0.00000000e+00, 1.01787798e-01, ...,\n",
              "          6.50509000e-02, 0.00000000e+00, 1.46597877e-01],\n",
              "         [0.00000000e+00, 0.00000000e+00, 1.03497922e-01, ...,\n",
              "          4.93934229e-02, 0.00000000e+00, 1.53783113e-01],\n",
              "         ...,\n",
              "         [0.00000000e+00, 0.00000000e+00, 9.23255011e-02, ...,\n",
              "          5.62325642e-02, 0.00000000e+00, 1.29076809e-01],\n",
              "         [0.00000000e+00, 0.00000000e+00, 8.62466693e-02, ...,\n",
              "          4.28963006e-02, 0.00000000e+00, 1.31298766e-01],\n",
              "         [0.00000000e+00, 0.00000000e+00, 7.66874179e-02, ...,\n",
              "          2.54467055e-02, 0.00000000e+00, 0.00000000e+00]]],\n",
              "\n",
              "\n",
              "       [[[1.46069601e-02, 2.45318860e-02, 0.00000000e+00, ...,\n",
              "          0.00000000e+00, 1.08285494e-01, 5.64989932e-02],\n",
              "         [0.00000000e+00, 0.00000000e+00, 0.00000000e+00, ...,\n",
              "          0.00000000e+00, 1.05600864e-01, 0.00000000e+00],\n",
              "         [0.00000000e+00, 0.00000000e+00, 2.03294605e-02, ...,\n",
              "          0.00000000e+00, 1.04589343e-01, 0.00000000e+00],\n",
              "         ...,\n",
              "         [0.00000000e+00, 0.00000000e+00, 6.10823333e-02, ...,\n",
              "          0.00000000e+00, 5.34996241e-02, 0.00000000e+00],\n",
              "         [0.00000000e+00, 0.00000000e+00, 2.79990919e-02, ...,\n",
              "          0.00000000e+00, 3.35403681e-02, 0.00000000e+00],\n",
              "         [0.00000000e+00, 0.00000000e+00, 9.04022679e-02, ...,\n",
              "          0.00000000e+00, 4.73451242e-02, 0.00000000e+00]],\n",
              "\n",
              "        [[2.04003677e-01, 9.35523137e-02, 5.38238883e-03, ...,\n",
              "          0.00000000e+00, 1.26761347e-02, 1.32334933e-01],\n",
              "         [1.12265110e-01, 6.27205744e-02, 2.23085564e-03, ...,\n",
              "          0.00000000e+00, 0.00000000e+00, 2.09821910e-02],\n",
              "         [4.57027555e-02, 3.16037387e-02, 0.00000000e+00, ...,\n",
              "          0.00000000e+00, 0.00000000e+00, 9.30710658e-02],\n",
              "         ...,\n",
              "         [4.85533103e-02, 5.00866584e-02, 2.07640715e-02, ...,\n",
              "          0.00000000e+00, 0.00000000e+00, 1.43621325e-01],\n",
              "         [2.20812738e-01, 1.21213183e-01, 1.37629816e-02, ...,\n",
              "          0.00000000e+00, 0.00000000e+00, 3.37970197e-01],\n",
              "         [0.00000000e+00, 0.00000000e+00, 1.64691787e-02, ...,\n",
              "          0.00000000e+00, 0.00000000e+00, 0.00000000e+00]],\n",
              "\n",
              "        [[1.78456843e-01, 4.55373526e-02, 5.32814767e-03, ...,\n",
              "          0.00000000e+00, 1.01840720e-02, 1.26526043e-01],\n",
              "         [1.49892252e-02, 1.08336480e-02, 5.27490024e-03, ...,\n",
              "          0.00000000e+00, 0.00000000e+00, 0.00000000e+00],\n",
              "         [3.45469639e-02, 3.26429531e-02, 0.00000000e+00, ...,\n",
              "          0.00000000e+00, 0.00000000e+00, 8.21123868e-02],\n",
              "         ...,\n",
              "         [0.00000000e+00, 4.90908772e-02, 1.85921323e-04, ...,\n",
              "          0.00000000e+00, 0.00000000e+00, 6.31128848e-02],\n",
              "         [1.53076008e-01, 1.19106457e-01, 1.18512362e-02, ...,\n",
              "          0.00000000e+00, 0.00000000e+00, 1.04905091e-01],\n",
              "         [0.00000000e+00, 0.00000000e+00, 2.10333541e-02, ...,\n",
              "          0.00000000e+00, 4.93978597e-02, 0.00000000e+00]],\n",
              "\n",
              "        ...,\n",
              "\n",
              "        [[1.93917319e-01, 4.86583672e-02, 5.61047532e-02, ...,\n",
              "          0.00000000e+00, 0.00000000e+00, 7.37485439e-02],\n",
              "         [4.05523814e-02, 2.33621635e-02, 8.80535915e-02, ...,\n",
              "          0.00000000e+00, 0.00000000e+00, 1.70247555e-02],\n",
              "         [4.80985790e-02, 3.87865379e-02, 8.78665894e-02, ...,\n",
              "          0.00000000e+00, 0.00000000e+00, 7.60783255e-03],\n",
              "         ...,\n",
              "         [0.00000000e+00, 0.00000000e+00, 5.59331775e-02, ...,\n",
              "          0.00000000e+00, 0.00000000e+00, 0.00000000e+00],\n",
              "         [0.00000000e+00, 0.00000000e+00, 3.06105241e-02, ...,\n",
              "          0.00000000e+00, 8.31928849e-03, 0.00000000e+00],\n",
              "         [0.00000000e+00, 0.00000000e+00, 1.64964348e-02, ...,\n",
              "          0.00000000e+00, 6.07314780e-02, 0.00000000e+00]],\n",
              "\n",
              "        [[2.08167881e-01, 6.30314127e-02, 5.41354753e-02, ...,\n",
              "          0.00000000e+00, 0.00000000e+00, 7.51195252e-02],\n",
              "         [6.67265803e-02, 3.54502872e-02, 8.05670843e-02, ...,\n",
              "          0.00000000e+00, 0.00000000e+00, 4.68583852e-02],\n",
              "         [5.29598184e-02, 3.73401642e-02, 7.71468431e-02, ...,\n",
              "          0.00000000e+00, 0.00000000e+00, 2.93119662e-02],\n",
              "         ...,\n",
              "         [0.00000000e+00, 0.00000000e+00, 6.75737783e-02, ...,\n",
              "          0.00000000e+00, 0.00000000e+00, 0.00000000e+00],\n",
              "         [0.00000000e+00, 0.00000000e+00, 4.77081016e-02, ...,\n",
              "          0.00000000e+00, 4.61009145e-03, 0.00000000e+00],\n",
              "         [0.00000000e+00, 0.00000000e+00, 2.26158891e-02, ...,\n",
              "          0.00000000e+00, 5.72034568e-02, 0.00000000e+00]],\n",
              "\n",
              "        [[6.04689233e-02, 0.00000000e+00, 1.11706629e-01, ...,\n",
              "          0.00000000e+00, 0.00000000e+00, 7.69455880e-02],\n",
              "         [0.00000000e+00, 0.00000000e+00, 1.51625171e-01, ...,\n",
              "          0.00000000e+00, 0.00000000e+00, 1.77922606e-01],\n",
              "         [0.00000000e+00, 0.00000000e+00, 1.57165706e-01, ...,\n",
              "          0.00000000e+00, 0.00000000e+00, 1.68138698e-01],\n",
              "         ...,\n",
              "         [0.00000000e+00, 0.00000000e+00, 1.22407913e-01, ...,\n",
              "          0.00000000e+00, 0.00000000e+00, 8.73672292e-02],\n",
              "         [0.00000000e+00, 0.00000000e+00, 8.71082842e-02, ...,\n",
              "          0.00000000e+00, 0.00000000e+00, 8.74687284e-02],\n",
              "         [0.00000000e+00, 0.00000000e+00, 4.11420017e-02, ...,\n",
              "          0.00000000e+00, 0.00000000e+00, 5.93786016e-02]]]],\n",
              "      dtype=float32)"
            ]
          },
          "metadata": {
            "tags": []
          },
          "execution_count": 87
        }
      ]
    },
    {
      "cell_type": "code",
      "metadata": {
        "colab": {
          "base_uri": "https://localhost:8080/"
        },
        "id": "Rlgju7Sn4UR2",
        "outputId": "04b63567-1dc5-4e11-ae2d-b43e5be91b9a"
      },
      "source": [
        "model.layers[0]._name='conv2d_3'\n",
        "print(model.layers[0].name)"
      ],
      "execution_count": 69,
      "outputs": [
        {
          "output_type": "stream",
          "text": [
            "conv2d_3\n"
          ],
          "name": "stdout"
        }
      ]
    },
    {
      "cell_type": "code",
      "metadata": {
        "id": "79jkSYrwAKqc"
      },
      "source": [
        "import tensorflow as tf\n",
        "def visualize_conv_layer(layer_name):\n",
        "  \n",
        "  layer_output=model.get_layer(layer_name).output\n",
        "\n",
        "  intermediate_model=tf.keras.models.Model(inputs=model.input,outputs=layer_output)\n",
        "\n",
        "  intermediate_prediction=intermediate_model.predict(X_test[11])\n",
        "  \n",
        "  row_size=4\n",
        "  col_size=8\n",
        "  \n",
        "  img_index=0\n",
        "\n",
        "  print(np.shape(intermediate_prediction))\n",
        "  \n",
        "  fig,ax=plt.subplots(row_size,col_size,figsize=(10,8))\n",
        "\n",
        "  for row in range(0,row_size):\n",
        "    for col in range(0,col_size):\n",
        "      ax[row][col].imshow(intermediate_prediction[0, :, :, img_index], cmap='gray')\n",
        "\n",
        "      img_index=img_index+1"
      ],
      "execution_count": 80,
      "outputs": []
    },
    {
      "cell_type": "code",
      "metadata": {
        "colab": {
          "base_uri": "https://localhost:8080/",
          "height": 663
        },
        "id": "Uk1b5Pn-ATcl",
        "outputId": "dab1106b-6af3-4dc7-f24a-303806df621d"
      },
      "source": [
        "visualize_conv_layer(\"conv2d_3\")"
      ],
      "execution_count": 81,
      "outputs": [
        {
          "output_type": "error",
          "ename": "ValueError",
          "evalue": "ignored",
          "traceback": [
            "\u001b[0;31m---------------------------------------------------------------------------\u001b[0m",
            "\u001b[0;31mValueError\u001b[0m                                Traceback (most recent call last)",
            "\u001b[0;32m<ipython-input-81-cccea0485524>\u001b[0m in \u001b[0;36m<module>\u001b[0;34m()\u001b[0m\n\u001b[0;32m----> 1\u001b[0;31m \u001b[0mvisualize_conv_layer\u001b[0m\u001b[0;34m(\u001b[0m\u001b[0;34m\"conv2d_3\"\u001b[0m\u001b[0;34m)\u001b[0m\u001b[0;34m\u001b[0m\u001b[0;34m\u001b[0m\u001b[0m\n\u001b[0m",
            "\u001b[0;32m<ipython-input-80-9dcfc04d0aed>\u001b[0m in \u001b[0;36mvisualize_conv_layer\u001b[0;34m(layer_name)\u001b[0m\n\u001b[1;32m      6\u001b[0m   \u001b[0mintermediate_model\u001b[0m\u001b[0;34m=\u001b[0m\u001b[0mtf\u001b[0m\u001b[0;34m.\u001b[0m\u001b[0mkeras\u001b[0m\u001b[0;34m.\u001b[0m\u001b[0mmodels\u001b[0m\u001b[0;34m.\u001b[0m\u001b[0mModel\u001b[0m\u001b[0;34m(\u001b[0m\u001b[0minputs\u001b[0m\u001b[0;34m=\u001b[0m\u001b[0mmodel\u001b[0m\u001b[0;34m.\u001b[0m\u001b[0minput\u001b[0m\u001b[0;34m,\u001b[0m\u001b[0moutputs\u001b[0m\u001b[0;34m=\u001b[0m\u001b[0mlayer_output\u001b[0m\u001b[0;34m)\u001b[0m\u001b[0;34m\u001b[0m\u001b[0;34m\u001b[0m\u001b[0m\n\u001b[1;32m      7\u001b[0m \u001b[0;34m\u001b[0m\u001b[0m\n\u001b[0;32m----> 8\u001b[0;31m   \u001b[0mintermediate_prediction\u001b[0m\u001b[0;34m=\u001b[0m\u001b[0mintermediate_model\u001b[0m\u001b[0;34m.\u001b[0m\u001b[0mpredict\u001b[0m\u001b[0;34m(\u001b[0m\u001b[0mX_test\u001b[0m\u001b[0;34m[\u001b[0m\u001b[0;36m11\u001b[0m\u001b[0;34m]\u001b[0m\u001b[0;34m)\u001b[0m\u001b[0;34m\u001b[0m\u001b[0;34m\u001b[0m\u001b[0m\n\u001b[0m\u001b[1;32m      9\u001b[0m \u001b[0;34m\u001b[0m\u001b[0m\n\u001b[1;32m     10\u001b[0m   \u001b[0mrow_size\u001b[0m\u001b[0;34m=\u001b[0m\u001b[0;36m4\u001b[0m\u001b[0;34m\u001b[0m\u001b[0;34m\u001b[0m\u001b[0m\n",
            "\u001b[0;32m/usr/local/lib/python3.7/dist-packages/tensorflow/python/keras/engine/training.py\u001b[0m in \u001b[0;36mpredict\u001b[0;34m(self, x, batch_size, verbose, steps, callbacks, max_queue_size, workers, use_multiprocessing)\u001b[0m\n\u001b[1;32m   1627\u001b[0m           \u001b[0;32mfor\u001b[0m \u001b[0mstep\u001b[0m \u001b[0;32min\u001b[0m \u001b[0mdata_handler\u001b[0m\u001b[0;34m.\u001b[0m\u001b[0msteps\u001b[0m\u001b[0;34m(\u001b[0m\u001b[0;34m)\u001b[0m\u001b[0;34m:\u001b[0m\u001b[0;34m\u001b[0m\u001b[0;34m\u001b[0m\u001b[0m\n\u001b[1;32m   1628\u001b[0m             \u001b[0mcallbacks\u001b[0m\u001b[0;34m.\u001b[0m\u001b[0mon_predict_batch_begin\u001b[0m\u001b[0;34m(\u001b[0m\u001b[0mstep\u001b[0m\u001b[0;34m)\u001b[0m\u001b[0;34m\u001b[0m\u001b[0;34m\u001b[0m\u001b[0m\n\u001b[0;32m-> 1629\u001b[0;31m             \u001b[0mtmp_batch_outputs\u001b[0m \u001b[0;34m=\u001b[0m \u001b[0mself\u001b[0m\u001b[0;34m.\u001b[0m\u001b[0mpredict_function\u001b[0m\u001b[0;34m(\u001b[0m\u001b[0miterator\u001b[0m\u001b[0;34m)\u001b[0m\u001b[0;34m\u001b[0m\u001b[0;34m\u001b[0m\u001b[0m\n\u001b[0m\u001b[1;32m   1630\u001b[0m             \u001b[0;32mif\u001b[0m \u001b[0mdata_handler\u001b[0m\u001b[0;34m.\u001b[0m\u001b[0mshould_sync\u001b[0m\u001b[0;34m:\u001b[0m\u001b[0;34m\u001b[0m\u001b[0;34m\u001b[0m\u001b[0m\n\u001b[1;32m   1631\u001b[0m               \u001b[0mcontext\u001b[0m\u001b[0;34m.\u001b[0m\u001b[0masync_wait\u001b[0m\u001b[0;34m(\u001b[0m\u001b[0;34m)\u001b[0m\u001b[0;34m\u001b[0m\u001b[0;34m\u001b[0m\u001b[0m\n",
            "\u001b[0;32m/usr/local/lib/python3.7/dist-packages/tensorflow/python/eager/def_function.py\u001b[0m in \u001b[0;36m__call__\u001b[0;34m(self, *args, **kwds)\u001b[0m\n\u001b[1;32m    826\u001b[0m     \u001b[0mtracing_count\u001b[0m \u001b[0;34m=\u001b[0m \u001b[0mself\u001b[0m\u001b[0;34m.\u001b[0m\u001b[0mexperimental_get_tracing_count\u001b[0m\u001b[0;34m(\u001b[0m\u001b[0;34m)\u001b[0m\u001b[0;34m\u001b[0m\u001b[0;34m\u001b[0m\u001b[0m\n\u001b[1;32m    827\u001b[0m     \u001b[0;32mwith\u001b[0m \u001b[0mtrace\u001b[0m\u001b[0;34m.\u001b[0m\u001b[0mTrace\u001b[0m\u001b[0;34m(\u001b[0m\u001b[0mself\u001b[0m\u001b[0;34m.\u001b[0m\u001b[0m_name\u001b[0m\u001b[0;34m)\u001b[0m \u001b[0;32mas\u001b[0m \u001b[0mtm\u001b[0m\u001b[0;34m:\u001b[0m\u001b[0;34m\u001b[0m\u001b[0;34m\u001b[0m\u001b[0m\n\u001b[0;32m--> 828\u001b[0;31m       \u001b[0mresult\u001b[0m \u001b[0;34m=\u001b[0m \u001b[0mself\u001b[0m\u001b[0;34m.\u001b[0m\u001b[0m_call\u001b[0m\u001b[0;34m(\u001b[0m\u001b[0;34m*\u001b[0m\u001b[0margs\u001b[0m\u001b[0;34m,\u001b[0m \u001b[0;34m**\u001b[0m\u001b[0mkwds\u001b[0m\u001b[0;34m)\u001b[0m\u001b[0;34m\u001b[0m\u001b[0;34m\u001b[0m\u001b[0m\n\u001b[0m\u001b[1;32m    829\u001b[0m       \u001b[0mcompiler\u001b[0m \u001b[0;34m=\u001b[0m \u001b[0;34m\"xla\"\u001b[0m \u001b[0;32mif\u001b[0m \u001b[0mself\u001b[0m\u001b[0;34m.\u001b[0m\u001b[0m_experimental_compile\u001b[0m \u001b[0;32melse\u001b[0m \u001b[0;34m\"nonXla\"\u001b[0m\u001b[0;34m\u001b[0m\u001b[0;34m\u001b[0m\u001b[0m\n\u001b[1;32m    830\u001b[0m       \u001b[0mnew_tracing_count\u001b[0m \u001b[0;34m=\u001b[0m \u001b[0mself\u001b[0m\u001b[0;34m.\u001b[0m\u001b[0mexperimental_get_tracing_count\u001b[0m\u001b[0;34m(\u001b[0m\u001b[0;34m)\u001b[0m\u001b[0;34m\u001b[0m\u001b[0;34m\u001b[0m\u001b[0m\n",
            "\u001b[0;32m/usr/local/lib/python3.7/dist-packages/tensorflow/python/eager/def_function.py\u001b[0m in \u001b[0;36m_call\u001b[0;34m(self, *args, **kwds)\u001b[0m\n\u001b[1;32m    869\u001b[0m       \u001b[0;31m# This is the first call of __call__, so we have to initialize.\u001b[0m\u001b[0;34m\u001b[0m\u001b[0;34m\u001b[0m\u001b[0;34m\u001b[0m\u001b[0m\n\u001b[1;32m    870\u001b[0m       \u001b[0minitializers\u001b[0m \u001b[0;34m=\u001b[0m \u001b[0;34m[\u001b[0m\u001b[0;34m]\u001b[0m\u001b[0;34m\u001b[0m\u001b[0;34m\u001b[0m\u001b[0m\n\u001b[0;32m--> 871\u001b[0;31m       \u001b[0mself\u001b[0m\u001b[0;34m.\u001b[0m\u001b[0m_initialize\u001b[0m\u001b[0;34m(\u001b[0m\u001b[0margs\u001b[0m\u001b[0;34m,\u001b[0m \u001b[0mkwds\u001b[0m\u001b[0;34m,\u001b[0m \u001b[0madd_initializers_to\u001b[0m\u001b[0;34m=\u001b[0m\u001b[0minitializers\u001b[0m\u001b[0;34m)\u001b[0m\u001b[0;34m\u001b[0m\u001b[0;34m\u001b[0m\u001b[0m\n\u001b[0m\u001b[1;32m    872\u001b[0m     \u001b[0;32mfinally\u001b[0m\u001b[0;34m:\u001b[0m\u001b[0;34m\u001b[0m\u001b[0;34m\u001b[0m\u001b[0m\n\u001b[1;32m    873\u001b[0m       \u001b[0;31m# At this point we know that the initialization is complete (or less\u001b[0m\u001b[0;34m\u001b[0m\u001b[0;34m\u001b[0m\u001b[0;34m\u001b[0m\u001b[0m\n",
            "\u001b[0;32m/usr/local/lib/python3.7/dist-packages/tensorflow/python/eager/def_function.py\u001b[0m in \u001b[0;36m_initialize\u001b[0;34m(self, args, kwds, add_initializers_to)\u001b[0m\n\u001b[1;32m    724\u001b[0m     self._concrete_stateful_fn = (\n\u001b[1;32m    725\u001b[0m         self._stateful_fn._get_concrete_function_internal_garbage_collected(  # pylint: disable=protected-access\n\u001b[0;32m--> 726\u001b[0;31m             *args, **kwds))\n\u001b[0m\u001b[1;32m    727\u001b[0m \u001b[0;34m\u001b[0m\u001b[0m\n\u001b[1;32m    728\u001b[0m     \u001b[0;32mdef\u001b[0m \u001b[0minvalid_creator_scope\u001b[0m\u001b[0;34m(\u001b[0m\u001b[0;34m*\u001b[0m\u001b[0munused_args\u001b[0m\u001b[0;34m,\u001b[0m \u001b[0;34m**\u001b[0m\u001b[0munused_kwds\u001b[0m\u001b[0;34m)\u001b[0m\u001b[0;34m:\u001b[0m\u001b[0;34m\u001b[0m\u001b[0;34m\u001b[0m\u001b[0m\n",
            "\u001b[0;32m/usr/local/lib/python3.7/dist-packages/tensorflow/python/eager/function.py\u001b[0m in \u001b[0;36m_get_concrete_function_internal_garbage_collected\u001b[0;34m(self, *args, **kwargs)\u001b[0m\n\u001b[1;32m   2967\u001b[0m       \u001b[0margs\u001b[0m\u001b[0;34m,\u001b[0m \u001b[0mkwargs\u001b[0m \u001b[0;34m=\u001b[0m \u001b[0;32mNone\u001b[0m\u001b[0;34m,\u001b[0m \u001b[0;32mNone\u001b[0m\u001b[0;34m\u001b[0m\u001b[0;34m\u001b[0m\u001b[0m\n\u001b[1;32m   2968\u001b[0m     \u001b[0;32mwith\u001b[0m \u001b[0mself\u001b[0m\u001b[0;34m.\u001b[0m\u001b[0m_lock\u001b[0m\u001b[0;34m:\u001b[0m\u001b[0;34m\u001b[0m\u001b[0;34m\u001b[0m\u001b[0m\n\u001b[0;32m-> 2969\u001b[0;31m       \u001b[0mgraph_function\u001b[0m\u001b[0;34m,\u001b[0m \u001b[0m_\u001b[0m \u001b[0;34m=\u001b[0m \u001b[0mself\u001b[0m\u001b[0;34m.\u001b[0m\u001b[0m_maybe_define_function\u001b[0m\u001b[0;34m(\u001b[0m\u001b[0margs\u001b[0m\u001b[0;34m,\u001b[0m \u001b[0mkwargs\u001b[0m\u001b[0;34m)\u001b[0m\u001b[0;34m\u001b[0m\u001b[0;34m\u001b[0m\u001b[0m\n\u001b[0m\u001b[1;32m   2970\u001b[0m     \u001b[0;32mreturn\u001b[0m \u001b[0mgraph_function\u001b[0m\u001b[0;34m\u001b[0m\u001b[0;34m\u001b[0m\u001b[0m\n\u001b[1;32m   2971\u001b[0m \u001b[0;34m\u001b[0m\u001b[0m\n",
            "\u001b[0;32m/usr/local/lib/python3.7/dist-packages/tensorflow/python/eager/function.py\u001b[0m in \u001b[0;36m_maybe_define_function\u001b[0;34m(self, args, kwargs)\u001b[0m\n\u001b[1;32m   3359\u001b[0m \u001b[0;34m\u001b[0m\u001b[0m\n\u001b[1;32m   3360\u001b[0m           \u001b[0mself\u001b[0m\u001b[0;34m.\u001b[0m\u001b[0m_function_cache\u001b[0m\u001b[0;34m.\u001b[0m\u001b[0mmissed\u001b[0m\u001b[0;34m.\u001b[0m\u001b[0madd\u001b[0m\u001b[0;34m(\u001b[0m\u001b[0mcall_context_key\u001b[0m\u001b[0;34m)\u001b[0m\u001b[0;34m\u001b[0m\u001b[0;34m\u001b[0m\u001b[0m\n\u001b[0;32m-> 3361\u001b[0;31m           \u001b[0mgraph_function\u001b[0m \u001b[0;34m=\u001b[0m \u001b[0mself\u001b[0m\u001b[0;34m.\u001b[0m\u001b[0m_create_graph_function\u001b[0m\u001b[0;34m(\u001b[0m\u001b[0margs\u001b[0m\u001b[0;34m,\u001b[0m \u001b[0mkwargs\u001b[0m\u001b[0;34m)\u001b[0m\u001b[0;34m\u001b[0m\u001b[0;34m\u001b[0m\u001b[0m\n\u001b[0m\u001b[1;32m   3362\u001b[0m           \u001b[0mself\u001b[0m\u001b[0;34m.\u001b[0m\u001b[0m_function_cache\u001b[0m\u001b[0;34m.\u001b[0m\u001b[0mprimary\u001b[0m\u001b[0;34m[\u001b[0m\u001b[0mcache_key\u001b[0m\u001b[0;34m]\u001b[0m \u001b[0;34m=\u001b[0m \u001b[0mgraph_function\u001b[0m\u001b[0;34m\u001b[0m\u001b[0;34m\u001b[0m\u001b[0m\n\u001b[1;32m   3363\u001b[0m \u001b[0;34m\u001b[0m\u001b[0m\n",
            "\u001b[0;32m/usr/local/lib/python3.7/dist-packages/tensorflow/python/eager/function.py\u001b[0m in \u001b[0;36m_create_graph_function\u001b[0;34m(self, args, kwargs, override_flat_arg_shapes)\u001b[0m\n\u001b[1;32m   3204\u001b[0m             \u001b[0marg_names\u001b[0m\u001b[0;34m=\u001b[0m\u001b[0marg_names\u001b[0m\u001b[0;34m,\u001b[0m\u001b[0;34m\u001b[0m\u001b[0;34m\u001b[0m\u001b[0m\n\u001b[1;32m   3205\u001b[0m             \u001b[0moverride_flat_arg_shapes\u001b[0m\u001b[0;34m=\u001b[0m\u001b[0moverride_flat_arg_shapes\u001b[0m\u001b[0;34m,\u001b[0m\u001b[0;34m\u001b[0m\u001b[0;34m\u001b[0m\u001b[0m\n\u001b[0;32m-> 3206\u001b[0;31m             capture_by_value=self._capture_by_value),\n\u001b[0m\u001b[1;32m   3207\u001b[0m         \u001b[0mself\u001b[0m\u001b[0;34m.\u001b[0m\u001b[0m_function_attributes\u001b[0m\u001b[0;34m,\u001b[0m\u001b[0;34m\u001b[0m\u001b[0;34m\u001b[0m\u001b[0m\n\u001b[1;32m   3208\u001b[0m         \u001b[0mfunction_spec\u001b[0m\u001b[0;34m=\u001b[0m\u001b[0mself\u001b[0m\u001b[0;34m.\u001b[0m\u001b[0mfunction_spec\u001b[0m\u001b[0;34m,\u001b[0m\u001b[0;34m\u001b[0m\u001b[0;34m\u001b[0m\u001b[0m\n",
            "\u001b[0;32m/usr/local/lib/python3.7/dist-packages/tensorflow/python/framework/func_graph.py\u001b[0m in \u001b[0;36mfunc_graph_from_py_func\u001b[0;34m(name, python_func, args, kwargs, signature, func_graph, autograph, autograph_options, add_control_dependencies, arg_names, op_return_value, collections, capture_by_value, override_flat_arg_shapes)\u001b[0m\n\u001b[1;32m    988\u001b[0m         \u001b[0m_\u001b[0m\u001b[0;34m,\u001b[0m \u001b[0moriginal_func\u001b[0m \u001b[0;34m=\u001b[0m \u001b[0mtf_decorator\u001b[0m\u001b[0;34m.\u001b[0m\u001b[0munwrap\u001b[0m\u001b[0;34m(\u001b[0m\u001b[0mpython_func\u001b[0m\u001b[0;34m)\u001b[0m\u001b[0;34m\u001b[0m\u001b[0;34m\u001b[0m\u001b[0m\n\u001b[1;32m    989\u001b[0m \u001b[0;34m\u001b[0m\u001b[0m\n\u001b[0;32m--> 990\u001b[0;31m       \u001b[0mfunc_outputs\u001b[0m \u001b[0;34m=\u001b[0m \u001b[0mpython_func\u001b[0m\u001b[0;34m(\u001b[0m\u001b[0;34m*\u001b[0m\u001b[0mfunc_args\u001b[0m\u001b[0;34m,\u001b[0m \u001b[0;34m**\u001b[0m\u001b[0mfunc_kwargs\u001b[0m\u001b[0;34m)\u001b[0m\u001b[0;34m\u001b[0m\u001b[0;34m\u001b[0m\u001b[0m\n\u001b[0m\u001b[1;32m    991\u001b[0m \u001b[0;34m\u001b[0m\u001b[0m\n\u001b[1;32m    992\u001b[0m       \u001b[0;31m# invariant: `func_outputs` contains only Tensors, CompositeTensors,\u001b[0m\u001b[0;34m\u001b[0m\u001b[0;34m\u001b[0m\u001b[0;34m\u001b[0m\u001b[0m\n",
            "\u001b[0;32m/usr/local/lib/python3.7/dist-packages/tensorflow/python/eager/def_function.py\u001b[0m in \u001b[0;36mwrapped_fn\u001b[0;34m(*args, **kwds)\u001b[0m\n\u001b[1;32m    632\u001b[0m             \u001b[0mxla_context\u001b[0m\u001b[0;34m.\u001b[0m\u001b[0mExit\u001b[0m\u001b[0;34m(\u001b[0m\u001b[0;34m)\u001b[0m\u001b[0;34m\u001b[0m\u001b[0;34m\u001b[0m\u001b[0m\n\u001b[1;32m    633\u001b[0m         \u001b[0;32melse\u001b[0m\u001b[0;34m:\u001b[0m\u001b[0;34m\u001b[0m\u001b[0;34m\u001b[0m\u001b[0m\n\u001b[0;32m--> 634\u001b[0;31m           \u001b[0mout\u001b[0m \u001b[0;34m=\u001b[0m \u001b[0mweak_wrapped_fn\u001b[0m\u001b[0;34m(\u001b[0m\u001b[0;34m)\u001b[0m\u001b[0;34m.\u001b[0m\u001b[0m__wrapped__\u001b[0m\u001b[0;34m(\u001b[0m\u001b[0;34m*\u001b[0m\u001b[0margs\u001b[0m\u001b[0;34m,\u001b[0m \u001b[0;34m**\u001b[0m\u001b[0mkwds\u001b[0m\u001b[0;34m)\u001b[0m\u001b[0;34m\u001b[0m\u001b[0;34m\u001b[0m\u001b[0m\n\u001b[0m\u001b[1;32m    635\u001b[0m         \u001b[0;32mreturn\u001b[0m \u001b[0mout\u001b[0m\u001b[0;34m\u001b[0m\u001b[0;34m\u001b[0m\u001b[0m\n\u001b[1;32m    636\u001b[0m \u001b[0;34m\u001b[0m\u001b[0m\n",
            "\u001b[0;32m/usr/local/lib/python3.7/dist-packages/tensorflow/python/framework/func_graph.py\u001b[0m in \u001b[0;36mwrapper\u001b[0;34m(*args, **kwargs)\u001b[0m\n\u001b[1;32m    975\u001b[0m           \u001b[0;32mexcept\u001b[0m \u001b[0mException\u001b[0m \u001b[0;32mas\u001b[0m \u001b[0me\u001b[0m\u001b[0;34m:\u001b[0m  \u001b[0;31m# pylint:disable=broad-except\u001b[0m\u001b[0;34m\u001b[0m\u001b[0;34m\u001b[0m\u001b[0m\n\u001b[1;32m    976\u001b[0m             \u001b[0;32mif\u001b[0m \u001b[0mhasattr\u001b[0m\u001b[0;34m(\u001b[0m\u001b[0me\u001b[0m\u001b[0;34m,\u001b[0m \u001b[0;34m\"ag_error_metadata\"\u001b[0m\u001b[0;34m)\u001b[0m\u001b[0;34m:\u001b[0m\u001b[0;34m\u001b[0m\u001b[0;34m\u001b[0m\u001b[0m\n\u001b[0;32m--> 977\u001b[0;31m               \u001b[0;32mraise\u001b[0m \u001b[0me\u001b[0m\u001b[0;34m.\u001b[0m\u001b[0mag_error_metadata\u001b[0m\u001b[0;34m.\u001b[0m\u001b[0mto_exception\u001b[0m\u001b[0;34m(\u001b[0m\u001b[0me\u001b[0m\u001b[0;34m)\u001b[0m\u001b[0;34m\u001b[0m\u001b[0;34m\u001b[0m\u001b[0m\n\u001b[0m\u001b[1;32m    978\u001b[0m             \u001b[0;32melse\u001b[0m\u001b[0;34m:\u001b[0m\u001b[0;34m\u001b[0m\u001b[0;34m\u001b[0m\u001b[0m\n\u001b[1;32m    979\u001b[0m               \u001b[0;32mraise\u001b[0m\u001b[0;34m\u001b[0m\u001b[0;34m\u001b[0m\u001b[0m\n",
            "\u001b[0;31mValueError\u001b[0m: in user code:\n\n    /usr/local/lib/python3.7/dist-packages/tensorflow/python/keras/engine/training.py:1478 predict_function  *\n        return step_function(self, iterator)\n    /usr/local/lib/python3.7/dist-packages/tensorflow/python/keras/engine/training.py:1468 step_function  **\n        outputs = model.distribute_strategy.run(run_step, args=(data,))\n    /usr/local/lib/python3.7/dist-packages/tensorflow/python/distribute/distribute_lib.py:1259 run\n        return self._extended.call_for_each_replica(fn, args=args, kwargs=kwargs)\n    /usr/local/lib/python3.7/dist-packages/tensorflow/python/distribute/distribute_lib.py:2730 call_for_each_replica\n        return self._call_for_each_replica(fn, args, kwargs)\n    /usr/local/lib/python3.7/dist-packages/tensorflow/python/distribute/distribute_lib.py:3417 _call_for_each_replica\n        return fn(*args, **kwargs)\n    /usr/local/lib/python3.7/dist-packages/tensorflow/python/keras/engine/training.py:1461 run_step  **\n        outputs = model.predict_step(data)\n    /usr/local/lib/python3.7/dist-packages/tensorflow/python/keras/engine/training.py:1434 predict_step\n        return self(x, training=False)\n    /usr/local/lib/python3.7/dist-packages/tensorflow/python/keras/engine/base_layer.py:998 __call__\n        input_spec.assert_input_compatibility(self.input_spec, inputs, self.name)\n    /usr/local/lib/python3.7/dist-packages/tensorflow/python/keras/engine/input_spec.py:274 assert_input_compatibility\n        ', found shape=' + display_shape(x.shape))\n\n    ValueError: Input 0 is incompatible with layer model_17: expected shape=(None, 32, 32, 3), found shape=(32, 32, 3)\n"
          ]
        }
      ]
    }
  ]
}